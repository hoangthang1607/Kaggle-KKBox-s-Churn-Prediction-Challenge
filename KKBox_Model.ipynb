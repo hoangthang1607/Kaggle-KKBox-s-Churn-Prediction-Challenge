{
 "cells": [
  {
   "cell_type": "code",
   "execution_count": 1,
   "metadata": {},
   "outputs": [],
   "source": [
    "import numpy as np\n",
    "import pandas as pd\n",
    "import matplotlib.pyplot as plt\n",
    "import seaborn as sns\n",
    "from tqdm import tqdm\n",
    "np.random.seed(167)\n",
    "plt.style.use('ggplot')\n",
    "%matplotlib inline"
   ]
  },
  {
   "cell_type": "code",
   "execution_count": 2,
   "metadata": {},
   "outputs": [],
   "source": [
    "def reduce_mem_usage(df):\n",
    "    \"\"\" iterate through all the columns of a dataframe and modify the data type\n",
    "        to reduce memory usage.        \n",
    "    \"\"\"\n",
    "    start_mem = df.memory_usage().sum() / 1024**2\n",
    "    #print('Memory usage of dataframe is {:.2f} MB'.format(start_mem))\n",
    "    \n",
    "    for col in df.columns:\n",
    "        col_type = df[col].dtype\n",
    "        \n",
    "        if col_type != object and col_type.name != 'category' and 'datetime' not in col_type.name:\n",
    "            c_min = df[col].min()\n",
    "            c_max = df[col].max()\n",
    "            if str(col_type)[:3] == 'int':\n",
    "                if c_min > np.iinfo(np.int8).min and c_max < np.iinfo(np.int8).max:\n",
    "                    df[col] = df[col].astype(np.int8)\n",
    "                elif c_min > np.iinfo(np.int16).min and c_max < np.iinfo(np.int16).max:\n",
    "                    df[col] = df[col].astype(np.int16)\n",
    "                elif c_min > np.iinfo(np.int32).min and c_max < np.iinfo(np.int32).max:\n",
    "                    df[col] = df[col].astype(np.int32)\n",
    "                elif c_min > np.iinfo(np.int64).min and c_max < np.iinfo(np.int64).max:\n",
    "                    df[col] = df[col].astype(np.int64)  \n",
    "            else:\n",
    "                if c_min > np.finfo(np.float16).min and c_max < np.finfo(np.float16).max:\n",
    "                    df[col] = df[col].astype(np.float16)\n",
    "                elif c_min > np.finfo(np.float32).min and c_max < np.finfo(np.float32).max:\n",
    "                    df[col] = df[col].astype(np.float32)\n",
    "                else:\n",
    "                    df[col] = df[col].astype(np.float64)\n",
    "        #elif 'datetime' not in col_type.name:\n",
    "        #    df[col] = df[col].astype('category')\n",
    "\n",
    "    end_mem = df.memory_usage().sum() / 1024**2\n",
    "    #print('Memory usage after optimization is: {:.2f} MB'.format(end_mem))\n",
    "    #print('Decreased by {:.1f}%'.format(100 * (start_mem - end_mem) / start_mem))\n",
    "    \n",
    "    return df"
   ]
  },
  {
   "cell_type": "markdown",
   "metadata": {},
   "source": [
    "## 1. Load data and Features engineering"
   ]
  },
  {
   "cell_type": "code",
   "execution_count": 3,
   "metadata": {},
   "outputs": [],
   "source": [
    "train = pd.read_csv('train_v2.csv')"
   ]
  },
  {
   "cell_type": "code",
   "execution_count": 4,
   "metadata": {},
   "outputs": [],
   "source": [
    "test = pd.read_csv('sample_submission_v2.csv')"
   ]
  },
  {
   "cell_type": "code",
   "execution_count": 5,
   "metadata": {},
   "outputs": [],
   "source": [
    "msno_train = train['msno'].tolist()\n",
    "msno_test = test['msno'].tolist()\n",
    "msno_all = list(set(msno_train).union(set(msno_test)))\n",
    "msno_inter = list(set(msno_train).intersection(set(msno_test)))"
   ]
  },
  {
   "cell_type": "markdown",
   "metadata": {},
   "source": [
    "### 1.1. `user_logs` dataset"
   ]
  },
  {
   "cell_type": "code",
   "execution_count": 6,
   "metadata": {},
   "outputs": [],
   "source": [
    "def user_preprocess(df):\n",
    "    df = df.loc[df['msno'].isin(msno_all)]\n",
    "    df = reduce_mem_usage(df)\n",
    "    df = df.groupby('msno').agg({'msno': 'count',\n",
    "                                 'date': 'min',\n",
    "                                 'num_25': 'sum',\n",
    "                                 'num_50': 'sum',\n",
    "                                 'num_75': 'sum',\n",
    "                                 'num_985': 'sum',\n",
    "                                 'num_100': 'sum',\n",
    "                                 'num_unq': 'sum', \n",
    "                                 'total_secs': 'sum'})\n",
    "    df = df.rename(columns = {'msno': 'count'}).reset_index()  \n",
    "    return df"
   ]
  },
  {
   "cell_type": "code",
   "execution_count": 7,
   "metadata": {},
   "outputs": [
    {
     "name": "stderr",
     "output_type": "stream",
     "text": [
      "0it [00:00, ?it/s]D:\\Code\\Anaconda3\\envs\\THANGHOANG\\lib\\site-packages\\ipykernel_launcher.py:20: SettingWithCopyWarning: \n",
      "A value is trying to be set on a copy of a slice from a DataFrame.\n",
      "Try using .loc[row_indexer,col_indexer] = value instead\n",
      "\n",
      "See the caveats in the documentation: http://pandas.pydata.org/pandas-docs/stable/indexing.html#indexing-view-versus-copy\n",
      "D:\\Code\\Anaconda3\\envs\\THANGHOANG\\lib\\site-packages\\ipykernel_launcher.py:18: SettingWithCopyWarning: \n",
      "A value is trying to be set on a copy of a slice from a DataFrame.\n",
      "Try using .loc[row_indexer,col_indexer] = value instead\n",
      "\n",
      "See the caveats in the documentation: http://pandas.pydata.org/pandas-docs/stable/indexing.html#indexing-view-versus-copy\n",
      "D:\\Code\\Anaconda3\\envs\\THANGHOANG\\lib\\site-packages\\ipykernel_launcher.py:27: SettingWithCopyWarning: \n",
      "A value is trying to be set on a copy of a slice from a DataFrame.\n",
      "Try using .loc[row_indexer,col_indexer] = value instead\n",
      "\n",
      "See the caveats in the documentation: http://pandas.pydata.org/pandas-docs/stable/indexing.html#indexing-view-versus-copy\n",
      "10it [23:01, 133.92s/it]\n"
     ]
    }
   ],
   "source": [
    "reader = pd.read_csv('user_logs.csv', chunksize=40000000)\n",
    "user_data = pd.DataFrame()\n",
    "for chunk in tqdm(reader):\n",
    "    chunk = user_preprocess(chunk)\n",
    "    user_data = pd.concat([user_data, chunk])\n",
    "del chunk"
   ]
  },
  {
   "cell_type": "code",
   "execution_count": 8,
   "metadata": {},
   "outputs": [
    {
     "name": "stderr",
     "output_type": "stream",
     "text": [
      "D:\\Code\\Anaconda3\\envs\\THANGHOANG\\lib\\site-packages\\ipykernel_launcher.py:20: SettingWithCopyWarning: \n",
      "A value is trying to be set on a copy of a slice from a DataFrame.\n",
      "Try using .loc[row_indexer,col_indexer] = value instead\n",
      "\n",
      "See the caveats in the documentation: http://pandas.pydata.org/pandas-docs/stable/indexing.html#indexing-view-versus-copy\n",
      "D:\\Code\\Anaconda3\\envs\\THANGHOANG\\lib\\site-packages\\ipykernel_launcher.py:18: SettingWithCopyWarning: \n",
      "A value is trying to be set on a copy of a slice from a DataFrame.\n",
      "Try using .loc[row_indexer,col_indexer] = value instead\n",
      "\n",
      "See the caveats in the documentation: http://pandas.pydata.org/pandas-docs/stable/indexing.html#indexing-view-versus-copy\n",
      "D:\\Code\\Anaconda3\\envs\\THANGHOANG\\lib\\site-packages\\ipykernel_launcher.py:27: SettingWithCopyWarning: \n",
      "A value is trying to be set on a copy of a slice from a DataFrame.\n",
      "Try using .loc[row_indexer,col_indexer] = value instead\n",
      "\n",
      "See the caveats in the documentation: http://pandas.pydata.org/pandas-docs/stable/indexing.html#indexing-view-versus-copy\n"
     ]
    }
   ],
   "source": [
    "user_logs = pd.read_csv('user_logs_v2.csv')\n",
    "user_logs = user_preprocess(user_logs)\n",
    "user_data = pd.concat([user_data, user_logs])\n",
    "del user_logs"
   ]
  },
  {
   "cell_type": "code",
   "execution_count": 9,
   "metadata": {},
   "outputs": [],
   "source": [
    "user_data = user_data.groupby('msno').agg({'count': 'sum',\n",
    "                                           'date': 'min',\n",
    "                                           'num_25': 'sum',\n",
    "                                           'num_50': 'sum',\n",
    "                                           'num_75': 'sum',\n",
    "                                           'num_985': 'sum',\n",
    "                                           'num_100': 'sum',\n",
    "                                           'num_unq': 'sum', \n",
    "                                           'total_secs': 'sum'})"
   ]
  },
  {
   "cell_type": "code",
   "execution_count": 10,
   "metadata": {},
   "outputs": [],
   "source": [
    "user_data = user_data.reset_index()\n",
    "user_data['date'] = pd.to_datetime(user_data['date'], format='%Y%m%d')\n",
    "user_data['year_start'] = user_data['date'].dt.year\n",
    "user_data = user_data.drop('date', axis = 1)"
   ]
  },
  {
   "cell_type": "code",
   "execution_count": 11,
   "metadata": {},
   "outputs": [],
   "source": [
    "cols = ['num_25', 'num_50', 'num_75', 'num_985', 'num_100', 'num_unq', 'total_secs']\n",
    "for col in cols:\n",
    "    user_data[col] = user_data[col]/user_data['count']"
   ]
  },
  {
   "cell_type": "code",
   "execution_count": 12,
   "metadata": {},
   "outputs": [],
   "source": [
    "train = pd.merge(train, user_data, on = 'msno', how = 'left')\n",
    "test = pd.merge(test, user_data, on = 'msno', how = 'left')"
   ]
  },
  {
   "cell_type": "code",
   "execution_count": 13,
   "metadata": {},
   "outputs": [],
   "source": [
    "del user_data"
   ]
  },
  {
   "cell_type": "markdown",
   "metadata": {},
   "source": [
    "### 1.2. `members_v3.csv` dataset"
   ]
  },
  {
   "cell_type": "code",
   "execution_count": 14,
   "metadata": {},
   "outputs": [],
   "source": [
    "members = pd.read_csv('members_v3.csv')\n",
    "members = members.loc[members['msno'].isin(msno_all)] \n",
    "train = pd.merge(train, members, how = 'left', on = 'msno')\n",
    "test = pd.merge(test, members, how = 'left', on = 'msno')\n",
    "del members"
   ]
  },
  {
   "cell_type": "code",
   "execution_count": 15,
   "metadata": {},
   "outputs": [],
   "source": [
    "def members_preprocess(df):\n",
    "    df['city'] = df['city'].fillna(0)\n",
    "    df['city'] = df['city'].apply(lambda x: 1 if ((x == 0) | (x == 1)) else 0)\n",
    "    df['gender'] = df['gender'].fillna('unknown')\n",
    "    df['registered_via'] = df['registered_via'].fillna(0)\n",
    "    df['registered_via'] = df['registered_via'].apply(lambda x: 0 if ((x == 0) | (x == 7)) else (2 if x == 4 else 1))\n",
    "    df['registration_init_time'] = pd.to_datetime(df['registration_init_time'], format='%Y%m%d')\n",
    "    df['registration_year'] = df['registration_init_time'].dt.year\n",
    "    df = df.drop(['bd', 'registration_init_time'], axis = 1)\n",
    "    return df"
   ]
  },
  {
   "cell_type": "code",
   "execution_count": 16,
   "metadata": {},
   "outputs": [],
   "source": [
    "train = members_preprocess(train)\n",
    "test = members_preprocess(test)"
   ]
  },
  {
   "cell_type": "markdown",
   "metadata": {},
   "source": [
    "### 1.3. `transactions.csv` and `transactions_v2.csv` dataset"
   ]
  },
  {
   "cell_type": "code",
   "execution_count": 17,
   "metadata": {},
   "outputs": [],
   "source": [
    "transactions = pd.concat([pd.read_csv('transactions.csv'), pd.read_csv('transactions_v2.csv')], axis = 0)\n",
    "transactions = reduce_mem_usage(transactions)\n",
    "transactions = transactions.loc[transactions['msno'].isin(msno_all)] \n",
    "transactions['transaction_date'] = pd.to_datetime(transactions['transaction_date'], format='%Y%m%d')\n",
    "transactions['membership_expire_date'] = pd.to_datetime(transactions['membership_expire_date'], format='%Y%m%d')\n",
    "transactions = transactions.sort_values(by = ['msno', 'transaction_date'], ascending = [True, True])\n",
    "train_transactions = transactions.loc[transactions['msno'].isin(msno_train)]\n",
    "test_transactions = transactions.loc[transactions['msno'].isin(msno_test)]\n",
    "del transactions"
   ]
  },
  {
   "cell_type": "code",
   "execution_count": 18,
   "metadata": {},
   "outputs": [],
   "source": [
    "def transaction_features(transactions, df, is_train = True):\n",
    "    check1 = transactions.groupby('msno')['transaction_date', 'membership_expire_date', 'is_cancel'].nth(-1)\n",
    "    if is_train == True:\n",
    "        check2 = transactions.loc[transactions['membership_expire_date'] <= pd.Timestamp('2017-03-31'), ['msno', 'transaction_date', 'membership_expire_date', 'is_cancel']]\n",
    "    else:\n",
    "        check2 = transactions.loc[transactions['membership_expire_date'] <= pd.Timestamp('2017-04-30'), ['msno', 'transaction_date', 'membership_expire_date', 'is_cancel']]\n",
    "    check3 = check2.groupby('msno')['membership_expire_date'].max()\n",
    "    check4 = check1.loc[check1['membership_expire_date'] != check3]\n",
    "    check5 = check1.loc[check1['membership_expire_date'] == check3]\n",
    "    case2 = check5.loc[check5['is_cancel'] == 0].index.tolist()\n",
    "    case3 = check4.loc[(check4['transaction_date'] < check3.loc[check4.index]) & (check4['is_cancel'] == 0)].index.tolist()\n",
    "    case4 = check4.loc[(check4['transaction_date'] >= check3.loc[check4.index]) & (check4['is_cancel'] == 0)].index.tolist()\n",
    "    del check1, check2, check3, check4, check5\n",
    "    df['transaction_proba'] = 0.85\n",
    "    df.loc[df['msno'].isin(case2), 'transaction_proba'] = 0.6\n",
    "    df.loc[df['msno'].isin(case3), 'transaction_proba'] = 0.25\n",
    "    df.loc[train['msno'].isin(case4), 'transaction_proba'] = 0.02\n",
    "    return df"
   ]
  },
  {
   "cell_type": "code",
   "execution_count": 19,
   "metadata": {},
   "outputs": [],
   "source": [
    "train = transaction_features(train_transactions, train, is_train = True)\n",
    "test = transaction_features(test_transactions, test, is_train = False)"
   ]
  },
  {
   "cell_type": "code",
   "execution_count": 20,
   "metadata": {},
   "outputs": [],
   "source": [
    "def transactions_preprocess(transactions, df):\n",
    "    transactions['membership_duration'] = ((transactions['membership_expire_date'] - transactions['transaction_date'])/np.timedelta64(1, 'D')).astype(int)\n",
    "    transactions.loc[transactions['membership_duration'] < 0, 'membership_duration'] = 0\n",
    "    transactions['discount'] = (transactions['plan_list_price'] - transactions['actual_amount_paid']).apply(lambda x: 1 if x > 0 else 0)\n",
    "    transactions['time_interrupt'] = transactions.groupby('msno')['transaction_date'].diff()/np.timedelta64(1, 'D')\n",
    "    sum_up = transactions.groupby('msno').agg({'payment_method_id': lambda x: x.mode().iloc[0], \n",
    "                                               'payment_plan_days': np.median,\n",
    "                                               'is_cancel': np.max,\n",
    "                                               'discount': np.max,\n",
    "                                               'actual_amount_paid': np.mean, \n",
    "                                               'membership_duration': lambda x: x.mode().iloc[0],\n",
    "                                               'time_interrupt': np.median,\n",
    "                                               'transaction_date': 'first'})\n",
    "    sum_up['time_interrupt'] = sum_up['time_interrupt'].fillna(0)\n",
    "    sum_up['payment_method_id'] = sum_up['payment_method_id'].apply(lambda x: 1 if x == 41 else 0)\n",
    "    sum_up['transaction_date'] = sum_up['transaction_date'].dt.year\n",
    "    df = pd.merge(df, sum_up.reset_index(), on = 'msno')\n",
    "    del transactions, sum_up\n",
    "    return reduce_mem_usage(df)"
   ]
  },
  {
   "cell_type": "code",
   "execution_count": 21,
   "metadata": {},
   "outputs": [],
   "source": [
    "train = transactions_preprocess(train_transactions, train)\n",
    "test = transactions_preprocess(test_transactions, test)"
   ]
  },
  {
   "cell_type": "code",
   "execution_count": 22,
   "metadata": {},
   "outputs": [],
   "source": [
    "del train_transactions, test_transactions"
   ]
  },
  {
   "cell_type": "code",
   "execution_count": 23,
   "metadata": {},
   "outputs": [],
   "source": [
    "train.loc[train['registration_year'].isnull(), 'registration_year'] = train.loc[train['registration_year'].isnull(), 'transaction_date']\n",
    "train.loc[train['year_start'].isnull(), 'year_start'] = train.loc[train['year_start'].isnull(), 'transaction_date']"
   ]
  },
  {
   "cell_type": "code",
   "execution_count": 24,
   "metadata": {},
   "outputs": [],
   "source": [
    "test.loc[test['registration_year'].isnull(), 'registration_year'] = test.loc[test['registration_year'].isnull(), 'transaction_date']\n",
    "test.loc[test['year_start'].isnull(), 'year_start'] = test.loc[test['year_start'].isnull(), 'transaction_date']"
   ]
  },
  {
   "cell_type": "code",
   "execution_count": 25,
   "metadata": {},
   "outputs": [],
   "source": [
    "def imputer(df):\n",
    "    nb_null = df.isnull().any(axis=1).sum()\n",
    "    idx = np.random.permutation(df.loc[~df.isnull().any(axis = 1)].index)[:nb_null]\n",
    "    df.loc[df.isnull().any(axis = 1)] = df.loc[idx].values\n",
    "    return df"
   ]
  },
  {
   "cell_type": "code",
   "execution_count": 26,
   "metadata": {},
   "outputs": [],
   "source": [
    "cols = ['count', 'num_25', 'num_50', 'num_75', 'num_985', 'num_100', 'num_unq', 'total_secs']\n",
    "train.loc[:, cols] = imputer(train.loc[:, cols])\n",
    "test.loc[:, cols] = imputer(test.loc[:, cols])"
   ]
  },
  {
   "cell_type": "code",
   "execution_count": 27,
   "metadata": {},
   "outputs": [],
   "source": [
    "cols = ['count', 'year_start', 'registration_year', 'payment_plan_days', 'time_interrupt']\n",
    "train[cols] = train[cols].astype(int)\n",
    "test[cols] = test[cols].astype(int)"
   ]
  },
  {
   "cell_type": "code",
   "execution_count": 28,
   "metadata": {},
   "outputs": [],
   "source": [
    "train = reduce_mem_usage(train)\n",
    "test = reduce_mem_usage(test)"
   ]
  },
  {
   "cell_type": "code",
   "execution_count": 29,
   "metadata": {},
   "outputs": [
    {
     "data": {
      "text/html": [
       "<div>\n",
       "<style scoped>\n",
       "    .dataframe tbody tr th:only-of-type {\n",
       "        vertical-align: middle;\n",
       "    }\n",
       "\n",
       "    .dataframe tbody tr th {\n",
       "        vertical-align: top;\n",
       "    }\n",
       "\n",
       "    .dataframe thead th {\n",
       "        text-align: right;\n",
       "    }\n",
       "</style>\n",
       "<table border=\"1\" class=\"dataframe\">\n",
       "  <thead>\n",
       "    <tr style=\"text-align: right;\">\n",
       "      <th></th>\n",
       "      <th>msno</th>\n",
       "      <th>is_churn</th>\n",
       "      <th>count</th>\n",
       "      <th>num_25</th>\n",
       "      <th>num_50</th>\n",
       "      <th>num_75</th>\n",
       "      <th>num_985</th>\n",
       "      <th>num_100</th>\n",
       "      <th>num_unq</th>\n",
       "      <th>total_secs</th>\n",
       "      <th>...</th>\n",
       "      <th>registration_year</th>\n",
       "      <th>transaction_proba</th>\n",
       "      <th>payment_method_id</th>\n",
       "      <th>payment_plan_days</th>\n",
       "      <th>is_cancel</th>\n",
       "      <th>discount</th>\n",
       "      <th>actual_amount_paid</th>\n",
       "      <th>membership_duration</th>\n",
       "      <th>time_interrupt</th>\n",
       "      <th>transaction_date</th>\n",
       "    </tr>\n",
       "  </thead>\n",
       "  <tbody>\n",
       "    <tr>\n",
       "      <th>0</th>\n",
       "      <td>ugx0CjOMzazClkFzU2xasmDZaoIqOUAZPsH1q0teWCg=</td>\n",
       "      <td>1</td>\n",
       "      <td>64</td>\n",
       "      <td>8.640625</td>\n",
       "      <td>1.671875</td>\n",
       "      <td>0.890625</td>\n",
       "      <td>1.437500</td>\n",
       "      <td>31.734375</td>\n",
       "      <td>12.156250</td>\n",
       "      <td>7513.968262</td>\n",
       "      <td>...</td>\n",
       "      <td>2013</td>\n",
       "      <td>0.600098</td>\n",
       "      <td>0</td>\n",
       "      <td>0</td>\n",
       "      <td>1</td>\n",
       "      <td>0</td>\n",
       "      <td>149.000</td>\n",
       "      <td>30</td>\n",
       "      <td>31</td>\n",
       "      <td>2015</td>\n",
       "    </tr>\n",
       "    <tr>\n",
       "      <th>1</th>\n",
       "      <td>f/NmvEzHfhINFEYZTR05prUdr+E+3+oewvweYz9cCQE=</td>\n",
       "      <td>1</td>\n",
       "      <td>80</td>\n",
       "      <td>1.837891</td>\n",
       "      <td>0.562500</td>\n",
       "      <td>0.287598</td>\n",
       "      <td>0.312500</td>\n",
       "      <td>10.101562</td>\n",
       "      <td>9.164062</td>\n",
       "      <td>2712.790527</td>\n",
       "      <td>...</td>\n",
       "      <td>2013</td>\n",
       "      <td>0.250000</td>\n",
       "      <td>0</td>\n",
       "      <td>30</td>\n",
       "      <td>0</td>\n",
       "      <td>0</td>\n",
       "      <td>134.500</td>\n",
       "      <td>30</td>\n",
       "      <td>34</td>\n",
       "      <td>2016</td>\n",
       "    </tr>\n",
       "    <tr>\n",
       "      <th>2</th>\n",
       "      <td>zLo9f73nGGT1p21ltZC3ChiRnAVvgibMyazbCxvWPcg=</td>\n",
       "      <td>1</td>\n",
       "      <td>342</td>\n",
       "      <td>31.531250</td>\n",
       "      <td>2.283203</td>\n",
       "      <td>1.237305</td>\n",
       "      <td>1.231445</td>\n",
       "      <td>19.546875</td>\n",
       "      <td>44.718750</td>\n",
       "      <td>5648.679688</td>\n",
       "      <td>...</td>\n",
       "      <td>2013</td>\n",
       "      <td>0.020004</td>\n",
       "      <td>0</td>\n",
       "      <td>30</td>\n",
       "      <td>0</td>\n",
       "      <td>0</td>\n",
       "      <td>149.125</td>\n",
       "      <td>30</td>\n",
       "      <td>32</td>\n",
       "      <td>2015</td>\n",
       "    </tr>\n",
       "    <tr>\n",
       "      <th>3</th>\n",
       "      <td>8iF/+8HY8lJKFrTc7iR9ZYGCG2Ecrogbc2Vy5YhsfhQ=</td>\n",
       "      <td>1</td>\n",
       "      <td>136</td>\n",
       "      <td>5.093750</td>\n",
       "      <td>1.573242</td>\n",
       "      <td>0.786621</td>\n",
       "      <td>0.646973</td>\n",
       "      <td>10.765625</td>\n",
       "      <td>17.484375</td>\n",
       "      <td>3538.294922</td>\n",
       "      <td>...</td>\n",
       "      <td>2014</td>\n",
       "      <td>0.850098</td>\n",
       "      <td>1</td>\n",
       "      <td>30</td>\n",
       "      <td>1</td>\n",
       "      <td>0</td>\n",
       "      <td>143.875</td>\n",
       "      <td>0</td>\n",
       "      <td>8</td>\n",
       "      <td>2015</td>\n",
       "    </tr>\n",
       "    <tr>\n",
       "      <th>4</th>\n",
       "      <td>K6fja4+jmoZ5xG6BypqX80Uw/XKpMgrEMdG2edFOxnA=</td>\n",
       "      <td>1</td>\n",
       "      <td>271</td>\n",
       "      <td>1.169922</td>\n",
       "      <td>0.715820</td>\n",
       "      <td>0.439209</td>\n",
       "      <td>0.276855</td>\n",
       "      <td>14.953125</td>\n",
       "      <td>14.414062</td>\n",
       "      <td>3874.755615</td>\n",
       "      <td>...</td>\n",
       "      <td>2014</td>\n",
       "      <td>0.020004</td>\n",
       "      <td>1</td>\n",
       "      <td>30</td>\n",
       "      <td>1</td>\n",
       "      <td>0</td>\n",
       "      <td>117.125</td>\n",
       "      <td>186</td>\n",
       "      <td>30</td>\n",
       "      <td>2015</td>\n",
       "    </tr>\n",
       "  </tbody>\n",
       "</table>\n",
       "<p>5 rows × 24 columns</p>\n",
       "</div>"
      ],
      "text/plain": [
       "                                           msno  is_churn  count     num_25  \\\n",
       "0  ugx0CjOMzazClkFzU2xasmDZaoIqOUAZPsH1q0teWCg=         1     64   8.640625   \n",
       "1  f/NmvEzHfhINFEYZTR05prUdr+E+3+oewvweYz9cCQE=         1     80   1.837891   \n",
       "2  zLo9f73nGGT1p21ltZC3ChiRnAVvgibMyazbCxvWPcg=         1    342  31.531250   \n",
       "3  8iF/+8HY8lJKFrTc7iR9ZYGCG2Ecrogbc2Vy5YhsfhQ=         1    136   5.093750   \n",
       "4  K6fja4+jmoZ5xG6BypqX80Uw/XKpMgrEMdG2edFOxnA=         1    271   1.169922   \n",
       "\n",
       "     num_50    num_75   num_985    num_100    num_unq   total_secs  \\\n",
       "0  1.671875  0.890625  1.437500  31.734375  12.156250  7513.968262   \n",
       "1  0.562500  0.287598  0.312500  10.101562   9.164062  2712.790527   \n",
       "2  2.283203  1.237305  1.231445  19.546875  44.718750  5648.679688   \n",
       "3  1.573242  0.786621  0.646973  10.765625  17.484375  3538.294922   \n",
       "4  0.715820  0.439209  0.276855  14.953125  14.414062  3874.755615   \n",
       "\n",
       "         ...         registration_year  transaction_proba payment_method_id  \\\n",
       "0        ...                      2013           0.600098                 0   \n",
       "1        ...                      2013           0.250000                 0   \n",
       "2        ...                      2013           0.020004                 0   \n",
       "3        ...                      2014           0.850098                 1   \n",
       "4        ...                      2014           0.020004                 1   \n",
       "\n",
       "   payment_plan_days  is_cancel  discount  actual_amount_paid  \\\n",
       "0                  0          1         0             149.000   \n",
       "1                 30          0         0             134.500   \n",
       "2                 30          0         0             149.125   \n",
       "3                 30          1         0             143.875   \n",
       "4                 30          1         0             117.125   \n",
       "\n",
       "   membership_duration  time_interrupt  transaction_date  \n",
       "0                   30              31              2015  \n",
       "1                   30              34              2016  \n",
       "2                   30              32              2015  \n",
       "3                    0               8              2015  \n",
       "4                  186              30              2015  \n",
       "\n",
       "[5 rows x 24 columns]"
      ]
     },
     "execution_count": 29,
     "metadata": {},
     "output_type": "execute_result"
    }
   ],
   "source": [
    "train.head()"
   ]
  },
  {
   "cell_type": "code",
   "execution_count": 30,
   "metadata": {},
   "outputs": [
    {
     "data": {
      "text/html": [
       "<div>\n",
       "<style scoped>\n",
       "    .dataframe tbody tr th:only-of-type {\n",
       "        vertical-align: middle;\n",
       "    }\n",
       "\n",
       "    .dataframe tbody tr th {\n",
       "        vertical-align: top;\n",
       "    }\n",
       "\n",
       "    .dataframe thead th {\n",
       "        text-align: right;\n",
       "    }\n",
       "</style>\n",
       "<table border=\"1\" class=\"dataframe\">\n",
       "  <thead>\n",
       "    <tr style=\"text-align: right;\">\n",
       "      <th></th>\n",
       "      <th>msno</th>\n",
       "      <th>is_churn</th>\n",
       "      <th>count</th>\n",
       "      <th>num_25</th>\n",
       "      <th>num_50</th>\n",
       "      <th>num_75</th>\n",
       "      <th>num_985</th>\n",
       "      <th>num_100</th>\n",
       "      <th>num_unq</th>\n",
       "      <th>total_secs</th>\n",
       "      <th>...</th>\n",
       "      <th>registration_year</th>\n",
       "      <th>transaction_proba</th>\n",
       "      <th>payment_method_id</th>\n",
       "      <th>payment_plan_days</th>\n",
       "      <th>is_cancel</th>\n",
       "      <th>discount</th>\n",
       "      <th>actual_amount_paid</th>\n",
       "      <th>membership_duration</th>\n",
       "      <th>time_interrupt</th>\n",
       "      <th>transaction_date</th>\n",
       "    </tr>\n",
       "  </thead>\n",
       "  <tbody>\n",
       "    <tr>\n",
       "      <th>0</th>\n",
       "      <td>4n+fXlyJvfQnTeKXTWT507Ll4JVYGrOC8LHCfwBmPE4=</td>\n",
       "      <td>0</td>\n",
       "      <td>4</td>\n",
       "      <td>2.000000</td>\n",
       "      <td>0.500000</td>\n",
       "      <td>0.250000</td>\n",
       "      <td>0.000000</td>\n",
       "      <td>0.250000</td>\n",
       "      <td>3.000000</td>\n",
       "      <td>2.079830e+02</td>\n",
       "      <td>...</td>\n",
       "      <td>2015</td>\n",
       "      <td>0.600098</td>\n",
       "      <td>1</td>\n",
       "      <td>30</td>\n",
       "      <td>0</td>\n",
       "      <td>0</td>\n",
       "      <td>99.0</td>\n",
       "      <td>31</td>\n",
       "      <td>31</td>\n",
       "      <td>2015</td>\n",
       "    </tr>\n",
       "    <tr>\n",
       "      <th>1</th>\n",
       "      <td>aNmbC1GvFUxQyQUidCVmfbQ0YeCuwkPzEdQ0RwWyeZM=</td>\n",
       "      <td>0</td>\n",
       "      <td>815</td>\n",
       "      <td>21.703125</td>\n",
       "      <td>4.398438</td>\n",
       "      <td>3.111328</td>\n",
       "      <td>3.269531</td>\n",
       "      <td>47.718750</td>\n",
       "      <td>68.812500</td>\n",
       "      <td>-1.131702e+13</td>\n",
       "      <td>...</td>\n",
       "      <td>2005</td>\n",
       "      <td>0.600098</td>\n",
       "      <td>0</td>\n",
       "      <td>30</td>\n",
       "      <td>0</td>\n",
       "      <td>0</td>\n",
       "      <td>149.0</td>\n",
       "      <td>31</td>\n",
       "      <td>31</td>\n",
       "      <td>2015</td>\n",
       "    </tr>\n",
       "    <tr>\n",
       "      <th>2</th>\n",
       "      <td>rFC9eSG/tMuzpre6cwcMLZHEYM89xY02qcz7HL4//jc=</td>\n",
       "      <td>0</td>\n",
       "      <td>77</td>\n",
       "      <td>5.089844</td>\n",
       "      <td>1.103516</td>\n",
       "      <td>0.519531</td>\n",
       "      <td>0.480469</td>\n",
       "      <td>16.968750</td>\n",
       "      <td>17.421875</td>\n",
       "      <td>4.419593e+03</td>\n",
       "      <td>...</td>\n",
       "      <td>2014</td>\n",
       "      <td>0.600098</td>\n",
       "      <td>1</td>\n",
       "      <td>30</td>\n",
       "      <td>1</td>\n",
       "      <td>1</td>\n",
       "      <td>91.0</td>\n",
       "      <td>31</td>\n",
       "      <td>30</td>\n",
       "      <td>2015</td>\n",
       "    </tr>\n",
       "    <tr>\n",
       "      <th>3</th>\n",
       "      <td>WZ59dLyrQcE7ft06MZ5dj40BnlYQY7PHgg/54+HaCSE=</td>\n",
       "      <td>0</td>\n",
       "      <td>139</td>\n",
       "      <td>9.765625</td>\n",
       "      <td>1.410156</td>\n",
       "      <td>0.834473</td>\n",
       "      <td>0.726562</td>\n",
       "      <td>11.015625</td>\n",
       "      <td>17.875000</td>\n",
       "      <td>3.233542e+03</td>\n",
       "      <td>...</td>\n",
       "      <td>2015</td>\n",
       "      <td>0.600098</td>\n",
       "      <td>1</td>\n",
       "      <td>30</td>\n",
       "      <td>0</td>\n",
       "      <td>0</td>\n",
       "      <td>99.0</td>\n",
       "      <td>31</td>\n",
       "      <td>31</td>\n",
       "      <td>2015</td>\n",
       "    </tr>\n",
       "    <tr>\n",
       "      <th>4</th>\n",
       "      <td>aky/Iv8hMp1/V/yQHLtaVuEmmAxkB5GuasQZePJ7NU4=</td>\n",
       "      <td>0</td>\n",
       "      <td>16</td>\n",
       "      <td>0.750000</td>\n",
       "      <td>0.437500</td>\n",
       "      <td>0.250000</td>\n",
       "      <td>0.187500</td>\n",
       "      <td>23.000000</td>\n",
       "      <td>23.625000</td>\n",
       "      <td>5.941232e+03</td>\n",
       "      <td>...</td>\n",
       "      <td>2016</td>\n",
       "      <td>0.600098</td>\n",
       "      <td>0</td>\n",
       "      <td>30</td>\n",
       "      <td>0</td>\n",
       "      <td>0</td>\n",
       "      <td>129.0</td>\n",
       "      <td>30</td>\n",
       "      <td>31</td>\n",
       "      <td>2016</td>\n",
       "    </tr>\n",
       "  </tbody>\n",
       "</table>\n",
       "<p>5 rows × 24 columns</p>\n",
       "</div>"
      ],
      "text/plain": [
       "                                           msno  is_churn  count     num_25  \\\n",
       "0  4n+fXlyJvfQnTeKXTWT507Ll4JVYGrOC8LHCfwBmPE4=         0      4   2.000000   \n",
       "1  aNmbC1GvFUxQyQUidCVmfbQ0YeCuwkPzEdQ0RwWyeZM=         0    815  21.703125   \n",
       "2  rFC9eSG/tMuzpre6cwcMLZHEYM89xY02qcz7HL4//jc=         0     77   5.089844   \n",
       "3  WZ59dLyrQcE7ft06MZ5dj40BnlYQY7PHgg/54+HaCSE=         0    139   9.765625   \n",
       "4  aky/Iv8hMp1/V/yQHLtaVuEmmAxkB5GuasQZePJ7NU4=         0     16   0.750000   \n",
       "\n",
       "     num_50    num_75   num_985    num_100    num_unq    total_secs  \\\n",
       "0  0.500000  0.250000  0.000000   0.250000   3.000000  2.079830e+02   \n",
       "1  4.398438  3.111328  3.269531  47.718750  68.812500 -1.131702e+13   \n",
       "2  1.103516  0.519531  0.480469  16.968750  17.421875  4.419593e+03   \n",
       "3  1.410156  0.834473  0.726562  11.015625  17.875000  3.233542e+03   \n",
       "4  0.437500  0.250000  0.187500  23.000000  23.625000  5.941232e+03   \n",
       "\n",
       "         ...         registration_year  transaction_proba payment_method_id  \\\n",
       "0        ...                      2015           0.600098                 1   \n",
       "1        ...                      2005           0.600098                 0   \n",
       "2        ...                      2014           0.600098                 1   \n",
       "3        ...                      2015           0.600098                 1   \n",
       "4        ...                      2016           0.600098                 0   \n",
       "\n",
       "   payment_plan_days  is_cancel  discount  actual_amount_paid  \\\n",
       "0                 30          0         0                99.0   \n",
       "1                 30          0         0               149.0   \n",
       "2                 30          1         1                91.0   \n",
       "3                 30          0         0                99.0   \n",
       "4                 30          0         0               129.0   \n",
       "\n",
       "   membership_duration  time_interrupt  transaction_date  \n",
       "0                   31              31              2015  \n",
       "1                   31              31              2015  \n",
       "2                   31              30              2015  \n",
       "3                   31              31              2015  \n",
       "4                   30              31              2016  \n",
       "\n",
       "[5 rows x 24 columns]"
      ]
     },
     "execution_count": 30,
     "metadata": {},
     "output_type": "execute_result"
    }
   ],
   "source": [
    "test.head()"
   ]
  },
  {
   "cell_type": "code",
   "execution_count": 31,
   "metadata": {},
   "outputs": [],
   "source": [
    "cols_dummies = ['city', 'gender', 'registered_via', 'payment_method_id', 'is_cancel', 'discount']"
   ]
  },
  {
   "cell_type": "code",
   "execution_count": 32,
   "metadata": {},
   "outputs": [],
   "source": [
    "train_dummies = pd.get_dummies(train[cols_dummies].astype(str))\n",
    "test_dummies = pd.get_dummies(test[cols_dummies].astype(str))"
   ]
  },
  {
   "cell_type": "code",
   "execution_count": 33,
   "metadata": {},
   "outputs": [],
   "source": [
    "train = train.drop(cols_dummies, axis = 1)\n",
    "test = test.drop(cols_dummies, axis = 1)"
   ]
  },
  {
   "cell_type": "code",
   "execution_count": 34,
   "metadata": {},
   "outputs": [
    {
     "name": "stderr",
     "output_type": "stream",
     "text": [
      "D:\\Code\\Anaconda3\\envs\\THANGHOANG\\lib\\site-packages\\sklearn\\preprocessing\\data.py:323: DataConversionWarning: Data with input dtype int16, float16, float32 were all converted to float64 by MinMaxScaler.\n",
      "  return self.partial_fit(X, y)\n"
     ]
    }
   ],
   "source": [
    "from sklearn.preprocessing import MinMaxScaler\n",
    "scaler = MinMaxScaler()\n",
    "scaler.fit(train.iloc[:, 2:])\n",
    "train.iloc[:, 2:] = scaler.transform(train.iloc[:, 2:])\n",
    "test.iloc[:, 2:] = scaler.transform(test.iloc[:, 2:])"
   ]
  },
  {
   "cell_type": "code",
   "execution_count": 35,
   "metadata": {},
   "outputs": [],
   "source": [
    "train = pd.concat([train, train_dummies], axis = 1)\n",
    "test = pd.concat([test, test_dummies], axis = 1)"
   ]
  },
  {
   "cell_type": "markdown",
   "metadata": {},
   "source": [
    "## 2. Model selection"
   ]
  },
  {
   "cell_type": "code",
   "execution_count": 79,
   "metadata": {},
   "outputs": [],
   "source": [
    "train = pd.read_csv('train_processed.csv')\n",
    "test = pd.read_csv('test_processed.csv')"
   ]
  },
  {
   "cell_type": "code",
   "execution_count": 80,
   "metadata": {},
   "outputs": [],
   "source": [
    "train = reduce_mem_usage(train)\n",
    "test = reduce_mem_usage(test)"
   ]
  },
  {
   "cell_type": "code",
   "execution_count": 8,
   "metadata": {},
   "outputs": [
    {
     "data": {
      "text/html": [
       "<div>\n",
       "<style scoped>\n",
       "    .dataframe tbody tr th:only-of-type {\n",
       "        vertical-align: middle;\n",
       "    }\n",
       "\n",
       "    .dataframe tbody tr th {\n",
       "        vertical-align: top;\n",
       "    }\n",
       "\n",
       "    .dataframe thead th {\n",
       "        text-align: right;\n",
       "    }\n",
       "</style>\n",
       "<table border=\"1\" class=\"dataframe\">\n",
       "  <thead>\n",
       "    <tr style=\"text-align: right;\">\n",
       "      <th></th>\n",
       "      <th>msno</th>\n",
       "      <th>is_churn</th>\n",
       "      <th>count</th>\n",
       "      <th>num_25</th>\n",
       "      <th>num_50</th>\n",
       "      <th>num_75</th>\n",
       "      <th>num_985</th>\n",
       "      <th>num_100</th>\n",
       "      <th>num_unq</th>\n",
       "      <th>total_secs</th>\n",
       "      <th>...</th>\n",
       "      <th>gender_unknown</th>\n",
       "      <th>registered_via_0</th>\n",
       "      <th>registered_via_1</th>\n",
       "      <th>registered_via_2</th>\n",
       "      <th>payment_method_id_0</th>\n",
       "      <th>payment_method_id_1</th>\n",
       "      <th>is_cancel_0</th>\n",
       "      <th>is_cancel_1</th>\n",
       "      <th>discount_0</th>\n",
       "      <th>discount_1</th>\n",
       "    </tr>\n",
       "  </thead>\n",
       "  <tbody>\n",
       "    <tr>\n",
       "      <th>0</th>\n",
       "      <td>ugx0CjOMzazClkFzU2xasmDZaoIqOUAZPsH1q0teWCg=</td>\n",
       "      <td>1</td>\n",
       "      <td>0.076843</td>\n",
       "      <td>0.005672</td>\n",
       "      <td>0.014168</td>\n",
       "      <td>0.010010</td>\n",
       "      <td>0.012222</td>\n",
       "      <td>0.047607</td>\n",
       "      <td>0.007957</td>\n",
       "      <td>0.973633</td>\n",
       "      <td>...</td>\n",
       "      <td>0</td>\n",
       "      <td>0</td>\n",
       "      <td>1</td>\n",
       "      <td>0</td>\n",
       "      <td>1</td>\n",
       "      <td>0</td>\n",
       "      <td>0</td>\n",
       "      <td>1</td>\n",
       "      <td>1</td>\n",
       "      <td>0</td>\n",
       "    </tr>\n",
       "    <tr>\n",
       "      <th>1</th>\n",
       "      <td>f/NmvEzHfhINFEYZTR05prUdr+E+3+oewvweYz9cCQE=</td>\n",
       "      <td>1</td>\n",
       "      <td>0.096313</td>\n",
       "      <td>0.001206</td>\n",
       "      <td>0.004768</td>\n",
       "      <td>0.003231</td>\n",
       "      <td>0.002657</td>\n",
       "      <td>0.015160</td>\n",
       "      <td>0.005825</td>\n",
       "      <td>0.973633</td>\n",
       "      <td>...</td>\n",
       "      <td>0</td>\n",
       "      <td>0</td>\n",
       "      <td>1</td>\n",
       "      <td>0</td>\n",
       "      <td>1</td>\n",
       "      <td>0</td>\n",
       "      <td>1</td>\n",
       "      <td>0</td>\n",
       "      <td>1</td>\n",
       "      <td>0</td>\n",
       "    </tr>\n",
       "    <tr>\n",
       "      <th>2</th>\n",
       "      <td>zLo9f73nGGT1p21ltZC3ChiRnAVvgibMyazbCxvWPcg=</td>\n",
       "      <td>1</td>\n",
       "      <td>0.415771</td>\n",
       "      <td>0.020706</td>\n",
       "      <td>0.019348</td>\n",
       "      <td>0.013901</td>\n",
       "      <td>0.010468</td>\n",
       "      <td>0.029327</td>\n",
       "      <td>0.031189</td>\n",
       "      <td>0.973633</td>\n",
       "      <td>...</td>\n",
       "      <td>0</td>\n",
       "      <td>0</td>\n",
       "      <td>1</td>\n",
       "      <td>0</td>\n",
       "      <td>1</td>\n",
       "      <td>0</td>\n",
       "      <td>1</td>\n",
       "      <td>0</td>\n",
       "      <td>1</td>\n",
       "      <td>0</td>\n",
       "    </tr>\n",
       "    <tr>\n",
       "      <th>3</th>\n",
       "      <td>8iF/+8HY8lJKFrTc7iR9ZYGCG2Ecrogbc2Vy5YhsfhQ=</td>\n",
       "      <td>1</td>\n",
       "      <td>0.164673</td>\n",
       "      <td>0.003345</td>\n",
       "      <td>0.013336</td>\n",
       "      <td>0.008835</td>\n",
       "      <td>0.005501</td>\n",
       "      <td>0.016159</td>\n",
       "      <td>0.011757</td>\n",
       "      <td>0.973633</td>\n",
       "      <td>...</td>\n",
       "      <td>1</td>\n",
       "      <td>1</td>\n",
       "      <td>0</td>\n",
       "      <td>0</td>\n",
       "      <td>0</td>\n",
       "      <td>1</td>\n",
       "      <td>0</td>\n",
       "      <td>1</td>\n",
       "      <td>1</td>\n",
       "      <td>0</td>\n",
       "    </tr>\n",
       "    <tr>\n",
       "      <th>4</th>\n",
       "      <td>K6fja4+jmoZ5xG6BypqX80Uw/XKpMgrEMdG2edFOxnA=</td>\n",
       "      <td>1</td>\n",
       "      <td>0.329346</td>\n",
       "      <td>0.000768</td>\n",
       "      <td>0.006065</td>\n",
       "      <td>0.004936</td>\n",
       "      <td>0.002354</td>\n",
       "      <td>0.022430</td>\n",
       "      <td>0.009567</td>\n",
       "      <td>0.973633</td>\n",
       "      <td>...</td>\n",
       "      <td>0</td>\n",
       "      <td>1</td>\n",
       "      <td>0</td>\n",
       "      <td>0</td>\n",
       "      <td>0</td>\n",
       "      <td>1</td>\n",
       "      <td>0</td>\n",
       "      <td>1</td>\n",
       "      <td>1</td>\n",
       "      <td>0</td>\n",
       "    </tr>\n",
       "  </tbody>\n",
       "</table>\n",
       "<p>5 rows × 32 columns</p>\n",
       "</div>"
      ],
      "text/plain": [
       "                                           msno  is_churn     count    num_25  \\\n",
       "0  ugx0CjOMzazClkFzU2xasmDZaoIqOUAZPsH1q0teWCg=         1  0.076843  0.005672   \n",
       "1  f/NmvEzHfhINFEYZTR05prUdr+E+3+oewvweYz9cCQE=         1  0.096313  0.001206   \n",
       "2  zLo9f73nGGT1p21ltZC3ChiRnAVvgibMyazbCxvWPcg=         1  0.415771  0.020706   \n",
       "3  8iF/+8HY8lJKFrTc7iR9ZYGCG2Ecrogbc2Vy5YhsfhQ=         1  0.164673  0.003345   \n",
       "4  K6fja4+jmoZ5xG6BypqX80Uw/XKpMgrEMdG2edFOxnA=         1  0.329346  0.000768   \n",
       "\n",
       "     num_50    num_75   num_985   num_100   num_unq  total_secs     ...      \\\n",
       "0  0.014168  0.010010  0.012222  0.047607  0.007957    0.973633     ...       \n",
       "1  0.004768  0.003231  0.002657  0.015160  0.005825    0.973633     ...       \n",
       "2  0.019348  0.013901  0.010468  0.029327  0.031189    0.973633     ...       \n",
       "3  0.013336  0.008835  0.005501  0.016159  0.011757    0.973633     ...       \n",
       "4  0.006065  0.004936  0.002354  0.022430  0.009567    0.973633     ...       \n",
       "\n",
       "   gender_unknown  registered_via_0  registered_via_1  registered_via_2  \\\n",
       "0               0                 0                 1                 0   \n",
       "1               0                 0                 1                 0   \n",
       "2               0                 0                 1                 0   \n",
       "3               1                 1                 0                 0   \n",
       "4               0                 1                 0                 0   \n",
       "\n",
       "   payment_method_id_0  payment_method_id_1  is_cancel_0  is_cancel_1  \\\n",
       "0                    1                    0            0            1   \n",
       "1                    1                    0            1            0   \n",
       "2                    1                    0            1            0   \n",
       "3                    0                    1            0            1   \n",
       "4                    0                    1            0            1   \n",
       "\n",
       "   discount_0  discount_1  \n",
       "0           1           0  \n",
       "1           1           0  \n",
       "2           1           0  \n",
       "3           1           0  \n",
       "4           1           0  \n",
       "\n",
       "[5 rows x 32 columns]"
      ]
     },
     "execution_count": 8,
     "metadata": {},
     "output_type": "execute_result"
    }
   ],
   "source": [
    "train.head()"
   ]
  },
  {
   "cell_type": "code",
   "execution_count": 5,
   "metadata": {},
   "outputs": [],
   "source": [
    "train['dataset'] = 1\n",
    "test['dataset'] = 0"
   ]
  },
  {
   "cell_type": "code",
   "execution_count": 6,
   "metadata": {},
   "outputs": [],
   "source": [
    "combine = pd.concat([train, test], axis = 0)"
   ]
  },
  {
   "cell_type": "code",
   "execution_count": 7,
   "metadata": {},
   "outputs": [],
   "source": [
    "X = combine.iloc[:, 2:-1]\n",
    "Y = combine['dataset']"
   ]
  },
  {
   "cell_type": "code",
   "execution_count": 10,
   "metadata": {},
   "outputs": [
    {
     "name": "stderr",
     "output_type": "stream",
     "text": [
      "D:\\Code\\Anaconda3\\envs\\THANGHOANG\\lib\\site-packages\\sklearn\\linear_model\\logistic.py:433: FutureWarning: Default solver will be changed to 'lbfgs' in 0.22. Specify a solver to silence this warning.\n",
      "  FutureWarning)\n",
      "D:\\Code\\Anaconda3\\envs\\THANGHOANG\\lib\\site-packages\\numpy\\core\\_methods.py:36: RuntimeWarning: overflow encountered in reduce\n",
      "  return umr_sum(a, axis, dtype, out, keepdims, initial)\n"
     ]
    }
   ],
   "source": [
    "clf = LogisticRegression()\n",
    "clf.fit(X, Y)\n",
    "Y_pred = clf.predict(X)"
   ]
  },
  {
   "cell_type": "code",
   "execution_count": 11,
   "metadata": {},
   "outputs": [],
   "source": [
    "idx_val = np.where(Y - Y_pred == 1)[0]"
   ]
  },
  {
   "cell_type": "code",
   "execution_count": 12,
   "metadata": {},
   "outputs": [],
   "source": [
    "X_val = train.iloc[idx_val, 2:-1]\n",
    "X_train = train.iloc[~train.index.isin(idx_val), 2:-1]\n",
    "Y_val = train.loc[idx_val, 'is_churn']\n",
    "Y_train = train.loc[~train.index.isin(idx_val), 'is_churn']\n",
    "X_test = test.iloc[:, 2:-1]"
   ]
  },
  {
   "cell_type": "code",
   "execution_count": 111,
   "metadata": {},
   "outputs": [],
   "source": [
    "X_dev = train.iloc[:, 2:]\n",
    "Y_dev = train['is_churn']"
   ]
  },
  {
   "cell_type": "code",
   "execution_count": 146,
   "metadata": {},
   "outputs": [],
   "source": [
    "X = train.iloc[:, 2:]\n",
    "Y = train['is_churn']\n",
    "X_test = test.iloc[:, 2:]"
   ]
  },
  {
   "cell_type": "code",
   "execution_count": 147,
   "metadata": {},
   "outputs": [],
   "source": [
    "from sklearn.model_selection import train_test_split\n",
    "X_train, X_val, Y_train, Y_val = train_test_split(X, Y, test_size = 70000, random_state = 167)"
   ]
  },
  {
   "cell_type": "markdown",
   "metadata": {},
   "source": [
    "### 2.1. Logistic Regression"
   ]
  },
  {
   "cell_type": "code",
   "execution_count": 83,
   "metadata": {},
   "outputs": [],
   "source": [
    "from sklearn.linear_model import LogisticRegression\n",
    "from sklearn.model_selection import GridSearchCV\n",
    "from sklearn.metrics import log_loss"
   ]
  },
  {
   "cell_type": "code",
   "execution_count": 41,
   "metadata": {},
   "outputs": [],
   "source": [
    "params_C = [1, 10, 20, 40, 60, 80, 100]"
   ]
  },
  {
   "cell_type": "code",
   "execution_count": 42,
   "metadata": {
    "collapsed": true
   },
   "outputs": [
    {
     "name": "stderr",
     "output_type": "stream",
     "text": [
      "D:\\Code\\Anaconda3\\envs\\THANGHOANG\\lib\\site-packages\\sklearn\\linear_model\\logistic.py:433: FutureWarning: Default solver will be changed to 'lbfgs' in 0.22. Specify a solver to silence this warning.\n",
      "  FutureWarning)\n",
      "D:\\Code\\Anaconda3\\envs\\THANGHOANG\\lib\\site-packages\\numpy\\core\\_methods.py:36: RuntimeWarning: overflow encountered in reduce\n",
      "  return umr_sum(a, axis, dtype, out, keepdims, initial)\n",
      "D:\\Code\\Anaconda3\\envs\\THANGHOANG\\lib\\site-packages\\sklearn\\linear_model\\logistic.py:433: FutureWarning: Default solver will be changed to 'lbfgs' in 0.22. Specify a solver to silence this warning.\n",
      "  FutureWarning)\n",
      "D:\\Code\\Anaconda3\\envs\\THANGHOANG\\lib\\site-packages\\numpy\\core\\_methods.py:36: RuntimeWarning: overflow encountered in reduce\n",
      "  return umr_sum(a, axis, dtype, out, keepdims, initial)\n",
      "D:\\Code\\Anaconda3\\envs\\THANGHOANG\\lib\\site-packages\\sklearn\\linear_model\\logistic.py:433: FutureWarning: Default solver will be changed to 'lbfgs' in 0.22. Specify a solver to silence this warning.\n",
      "  FutureWarning)\n",
      "D:\\Code\\Anaconda3\\envs\\THANGHOANG\\lib\\site-packages\\numpy\\core\\_methods.py:36: RuntimeWarning: overflow encountered in reduce\n",
      "  return umr_sum(a, axis, dtype, out, keepdims, initial)\n",
      "D:\\Code\\Anaconda3\\envs\\THANGHOANG\\lib\\site-packages\\sklearn\\linear_model\\logistic.py:433: FutureWarning: Default solver will be changed to 'lbfgs' in 0.22. Specify a solver to silence this warning.\n",
      "  FutureWarning)\n",
      "D:\\Code\\Anaconda3\\envs\\THANGHOANG\\lib\\site-packages\\numpy\\core\\_methods.py:36: RuntimeWarning: overflow encountered in reduce\n",
      "  return umr_sum(a, axis, dtype, out, keepdims, initial)\n",
      "D:\\Code\\Anaconda3\\envs\\THANGHOANG\\lib\\site-packages\\sklearn\\linear_model\\logistic.py:433: FutureWarning: Default solver will be changed to 'lbfgs' in 0.22. Specify a solver to silence this warning.\n",
      "  FutureWarning)\n",
      "D:\\Code\\Anaconda3\\envs\\THANGHOANG\\lib\\site-packages\\numpy\\core\\_methods.py:36: RuntimeWarning: overflow encountered in reduce\n",
      "  return umr_sum(a, axis, dtype, out, keepdims, initial)\n",
      "D:\\Code\\Anaconda3\\envs\\THANGHOANG\\lib\\site-packages\\sklearn\\linear_model\\logistic.py:433: FutureWarning: Default solver will be changed to 'lbfgs' in 0.22. Specify a solver to silence this warning.\n",
      "  FutureWarning)\n",
      "D:\\Code\\Anaconda3\\envs\\THANGHOANG\\lib\\site-packages\\numpy\\core\\_methods.py:36: RuntimeWarning: overflow encountered in reduce\n",
      "  return umr_sum(a, axis, dtype, out, keepdims, initial)\n",
      "D:\\Code\\Anaconda3\\envs\\THANGHOANG\\lib\\site-packages\\sklearn\\linear_model\\logistic.py:433: FutureWarning: Default solver will be changed to 'lbfgs' in 0.22. Specify a solver to silence this warning.\n",
      "  FutureWarning)\n",
      "D:\\Code\\Anaconda3\\envs\\THANGHOANG\\lib\\site-packages\\numpy\\core\\_methods.py:36: RuntimeWarning: overflow encountered in reduce\n",
      "  return umr_sum(a, axis, dtype, out, keepdims, initial)\n"
     ]
    }
   ],
   "source": [
    "res = []\n",
    "for c in params_C:\n",
    "    clf = LogisticRegression(C = c)\n",
    "    clf.fit(X_train, Y_train)\n",
    "    res.append(log_loss(Y_val, clf.predict_proba(X_val)))"
   ]
  },
  {
   "cell_type": "code",
   "execution_count": 43,
   "metadata": {},
   "outputs": [
    {
     "data": {
      "text/plain": [
       "[1.314350873714348,\n",
       " 1.3582844112050405,\n",
       " 1.3628964102714622,\n",
       " 1.3650793444835887,\n",
       " 1.3664276531035353,\n",
       " 1.3671052247348037,\n",
       " 1.366248607304074]"
      ]
     },
     "execution_count": 43,
     "metadata": {},
     "output_type": "execute_result"
    }
   ],
   "source": [
    "res"
   ]
  },
  {
   "cell_type": "code",
   "execution_count": 44,
   "metadata": {},
   "outputs": [
    {
     "name": "stderr",
     "output_type": "stream",
     "text": [
      "D:\\Code\\Anaconda3\\envs\\THANGHOANG\\lib\\site-packages\\sklearn\\linear_model\\logistic.py:433: FutureWarning: Default solver will be changed to 'lbfgs' in 0.22. Specify a solver to silence this warning.\n",
      "  FutureWarning)\n"
     ]
    },
    {
     "data": {
      "text/plain": [
       "LogisticRegression(C=1, class_weight=None, dual=False, fit_intercept=True,\n",
       "          intercept_scaling=1, max_iter=100, multi_class='warn',\n",
       "          n_jobs=None, penalty='l2', random_state=None, solver='warn',\n",
       "          tol=0.0001, verbose=0, warm_start=False)"
      ]
     },
     "execution_count": 44,
     "metadata": {},
     "output_type": "execute_result"
    }
   ],
   "source": [
    "clf = LogisticRegression(C = 1)\n",
    "clf.fit(X_train, Y_train)"
   ]
  },
  {
   "cell_type": "code",
   "execution_count": 57,
   "metadata": {
    "collapsed": true
   },
   "outputs": [
    {
     "name": "stderr",
     "output_type": "stream",
     "text": [
      "D:\\Code\\Anaconda3\\envs\\THANGHOANG\\lib\\site-packages\\sklearn\\linear_model\\logistic.py:433: FutureWarning: Default solver will be changed to 'lbfgs' in 0.22. Specify a solver to silence this warning.\n",
      "  FutureWarning)\n",
      "D:\\Code\\Anaconda3\\envs\\THANGHOANG\\lib\\site-packages\\sklearn\\linear_model\\logistic.py:433: FutureWarning: Default solver will be changed to 'lbfgs' in 0.22. Specify a solver to silence this warning.\n",
      "  FutureWarning)\n",
      "D:\\Code\\Anaconda3\\envs\\THANGHOANG\\lib\\site-packages\\sklearn\\linear_model\\logistic.py:433: FutureWarning: Default solver will be changed to 'lbfgs' in 0.22. Specify a solver to silence this warning.\n",
      "  FutureWarning)\n",
      "D:\\Code\\Anaconda3\\envs\\THANGHOANG\\lib\\site-packages\\sklearn\\linear_model\\logistic.py:433: FutureWarning: Default solver will be changed to 'lbfgs' in 0.22. Specify a solver to silence this warning.\n",
      "  FutureWarning)\n",
      "D:\\Code\\Anaconda3\\envs\\THANGHOANG\\lib\\site-packages\\sklearn\\linear_model\\logistic.py:433: FutureWarning: Default solver will be changed to 'lbfgs' in 0.22. Specify a solver to silence this warning.\n",
      "  FutureWarning)\n",
      "D:\\Code\\Anaconda3\\envs\\THANGHOANG\\lib\\site-packages\\sklearn\\linear_model\\logistic.py:433: FutureWarning: Default solver will be changed to 'lbfgs' in 0.22. Specify a solver to silence this warning.\n",
      "  FutureWarning)\n",
      "D:\\Code\\Anaconda3\\envs\\THANGHOANG\\lib\\site-packages\\sklearn\\linear_model\\logistic.py:433: FutureWarning: Default solver will be changed to 'lbfgs' in 0.22. Specify a solver to silence this warning.\n",
      "  FutureWarning)\n",
      "D:\\Code\\Anaconda3\\envs\\THANGHOANG\\lib\\site-packages\\sklearn\\linear_model\\logistic.py:433: FutureWarning: Default solver will be changed to 'lbfgs' in 0.22. Specify a solver to silence this warning.\n",
      "  FutureWarning)\n",
      "D:\\Code\\Anaconda3\\envs\\THANGHOANG\\lib\\site-packages\\sklearn\\linear_model\\logistic.py:433: FutureWarning: Default solver will be changed to 'lbfgs' in 0.22. Specify a solver to silence this warning.\n",
      "  FutureWarning)\n",
      "D:\\Code\\Anaconda3\\envs\\THANGHOANG\\lib\\site-packages\\sklearn\\linear_model\\logistic.py:433: FutureWarning: Default solver will be changed to 'lbfgs' in 0.22. Specify a solver to silence this warning.\n",
      "  FutureWarning)\n",
      "D:\\Code\\Anaconda3\\envs\\THANGHOANG\\lib\\site-packages\\sklearn\\linear_model\\logistic.py:433: FutureWarning: Default solver will be changed to 'lbfgs' in 0.22. Specify a solver to silence this warning.\n",
      "  FutureWarning)\n",
      "D:\\Code\\Anaconda3\\envs\\THANGHOANG\\lib\\site-packages\\sklearn\\linear_model\\logistic.py:433: FutureWarning: Default solver will be changed to 'lbfgs' in 0.22. Specify a solver to silence this warning.\n",
      "  FutureWarning)\n",
      "D:\\Code\\Anaconda3\\envs\\THANGHOANG\\lib\\site-packages\\sklearn\\linear_model\\logistic.py:433: FutureWarning: Default solver will be changed to 'lbfgs' in 0.22. Specify a solver to silence this warning.\n",
      "  FutureWarning)\n",
      "D:\\Code\\Anaconda3\\envs\\THANGHOANG\\lib\\site-packages\\sklearn\\linear_model\\logistic.py:433: FutureWarning: Default solver will be changed to 'lbfgs' in 0.22. Specify a solver to silence this warning.\n",
      "  FutureWarning)\n",
      "D:\\Code\\Anaconda3\\envs\\THANGHOANG\\lib\\site-packages\\sklearn\\linear_model\\logistic.py:433: FutureWarning: Default solver will be changed to 'lbfgs' in 0.22. Specify a solver to silence this warning.\n",
      "  FutureWarning)\n",
      "D:\\Code\\Anaconda3\\envs\\THANGHOANG\\lib\\site-packages\\sklearn\\linear_model\\logistic.py:433: FutureWarning: Default solver will be changed to 'lbfgs' in 0.22. Specify a solver to silence this warning.\n",
      "  FutureWarning)\n",
      "D:\\Code\\Anaconda3\\envs\\THANGHOANG\\lib\\site-packages\\sklearn\\linear_model\\logistic.py:433: FutureWarning: Default solver will be changed to 'lbfgs' in 0.22. Specify a solver to silence this warning.\n",
      "  FutureWarning)\n",
      "D:\\Code\\Anaconda3\\envs\\THANGHOANG\\lib\\site-packages\\sklearn\\linear_model\\logistic.py:433: FutureWarning: Default solver will be changed to 'lbfgs' in 0.22. Specify a solver to silence this warning.\n",
      "  FutureWarning)\n",
      "D:\\Code\\Anaconda3\\envs\\THANGHOANG\\lib\\site-packages\\sklearn\\linear_model\\logistic.py:433: FutureWarning: Default solver will be changed to 'lbfgs' in 0.22. Specify a solver to silence this warning.\n",
      "  FutureWarning)\n",
      "D:\\Code\\Anaconda3\\envs\\THANGHOANG\\lib\\site-packages\\sklearn\\linear_model\\logistic.py:433: FutureWarning: Default solver will be changed to 'lbfgs' in 0.22. Specify a solver to silence this warning.\n",
      "  FutureWarning)\n",
      "D:\\Code\\Anaconda3\\envs\\THANGHOANG\\lib\\site-packages\\sklearn\\linear_model\\logistic.py:433: FutureWarning: Default solver will be changed to 'lbfgs' in 0.22. Specify a solver to silence this warning.\n",
      "  FutureWarning)\n",
      "D:\\Code\\Anaconda3\\envs\\THANGHOANG\\lib\\site-packages\\sklearn\\linear_model\\logistic.py:433: FutureWarning: Default solver will be changed to 'lbfgs' in 0.22. Specify a solver to silence this warning.\n",
      "  FutureWarning)\n",
      "D:\\Code\\Anaconda3\\envs\\THANGHOANG\\lib\\site-packages\\sklearn\\linear_model\\logistic.py:433: FutureWarning: Default solver will be changed to 'lbfgs' in 0.22. Specify a solver to silence this warning.\n",
      "  FutureWarning)\n",
      "D:\\Code\\Anaconda3\\envs\\THANGHOANG\\lib\\site-packages\\sklearn\\linear_model\\logistic.py:433: FutureWarning: Default solver will be changed to 'lbfgs' in 0.22. Specify a solver to silence this warning.\n",
      "  FutureWarning)\n",
      "D:\\Code\\Anaconda3\\envs\\THANGHOANG\\lib\\site-packages\\sklearn\\linear_model\\logistic.py:433: FutureWarning: Default solver will be changed to 'lbfgs' in 0.22. Specify a solver to silence this warning.\n",
      "  FutureWarning)\n",
      "D:\\Code\\Anaconda3\\envs\\THANGHOANG\\lib\\site-packages\\sklearn\\linear_model\\logistic.py:433: FutureWarning: Default solver will be changed to 'lbfgs' in 0.22. Specify a solver to silence this warning.\n",
      "  FutureWarning)\n",
      "D:\\Code\\Anaconda3\\envs\\THANGHOANG\\lib\\site-packages\\sklearn\\linear_model\\logistic.py:433: FutureWarning: Default solver will be changed to 'lbfgs' in 0.22. Specify a solver to silence this warning.\n",
      "  FutureWarning)\n",
      "D:\\Code\\Anaconda3\\envs\\THANGHOANG\\lib\\site-packages\\sklearn\\linear_model\\logistic.py:433: FutureWarning: Default solver will be changed to 'lbfgs' in 0.22. Specify a solver to silence this warning.\n",
      "  FutureWarning)\n",
      "D:\\Code\\Anaconda3\\envs\\THANGHOANG\\lib\\site-packages\\sklearn\\linear_model\\logistic.py:433: FutureWarning: Default solver will be changed to 'lbfgs' in 0.22. Specify a solver to silence this warning.\n",
      "  FutureWarning)\n",
      "D:\\Code\\Anaconda3\\envs\\THANGHOANG\\lib\\site-packages\\sklearn\\linear_model\\logistic.py:433: FutureWarning: Default solver will be changed to 'lbfgs' in 0.22. Specify a solver to silence this warning.\n",
      "  FutureWarning)\n",
      "D:\\Code\\Anaconda3\\envs\\THANGHOANG\\lib\\site-packages\\sklearn\\linear_model\\logistic.py:433: FutureWarning: Default solver will be changed to 'lbfgs' in 0.22. Specify a solver to silence this warning.\n",
      "  FutureWarning)\n",
      "D:\\Code\\Anaconda3\\envs\\THANGHOANG\\lib\\site-packages\\sklearn\\linear_model\\logistic.py:433: FutureWarning: Default solver will be changed to 'lbfgs' in 0.22. Specify a solver to silence this warning.\n",
      "  FutureWarning)\n",
      "D:\\Code\\Anaconda3\\envs\\THANGHOANG\\lib\\site-packages\\sklearn\\linear_model\\logistic.py:433: FutureWarning: Default solver will be changed to 'lbfgs' in 0.22. Specify a solver to silence this warning.\n",
      "  FutureWarning)\n",
      "D:\\Code\\Anaconda3\\envs\\THANGHOANG\\lib\\site-packages\\sklearn\\linear_model\\logistic.py:433: FutureWarning: Default solver will be changed to 'lbfgs' in 0.22. Specify a solver to silence this warning.\n",
      "  FutureWarning)\n",
      "D:\\Code\\Anaconda3\\envs\\THANGHOANG\\lib\\site-packages\\sklearn\\linear_model\\logistic.py:433: FutureWarning: Default solver will be changed to 'lbfgs' in 0.22. Specify a solver to silence this warning.\n",
      "  FutureWarning)\n",
      "D:\\Code\\Anaconda3\\envs\\THANGHOANG\\lib\\site-packages\\sklearn\\linear_model\\logistic.py:433: FutureWarning: Default solver will be changed to 'lbfgs' in 0.22. Specify a solver to silence this warning.\n",
      "  FutureWarning)\n",
      "D:\\Code\\Anaconda3\\envs\\THANGHOANG\\lib\\site-packages\\sklearn\\linear_model\\logistic.py:433: FutureWarning: Default solver will be changed to 'lbfgs' in 0.22. Specify a solver to silence this warning.\n",
      "  FutureWarning)\n",
      "D:\\Code\\Anaconda3\\envs\\THANGHOANG\\lib\\site-packages\\sklearn\\linear_model\\logistic.py:433: FutureWarning: Default solver will be changed to 'lbfgs' in 0.22. Specify a solver to silence this warning.\n",
      "  FutureWarning)\n",
      "D:\\Code\\Anaconda3\\envs\\THANGHOANG\\lib\\site-packages\\sklearn\\linear_model\\logistic.py:433: FutureWarning: Default solver will be changed to 'lbfgs' in 0.22. Specify a solver to silence this warning.\n",
      "  FutureWarning)\n"
     ]
    },
    {
     "name": "stderr",
     "output_type": "stream",
     "text": [
      "D:\\Code\\Anaconda3\\envs\\THANGHOANG\\lib\\site-packages\\sklearn\\linear_model\\logistic.py:433: FutureWarning: Default solver will be changed to 'lbfgs' in 0.22. Specify a solver to silence this warning.\n",
      "  FutureWarning)\n",
      "D:\\Code\\Anaconda3\\envs\\THANGHOANG\\lib\\site-packages\\sklearn\\linear_model\\logistic.py:433: FutureWarning: Default solver will be changed to 'lbfgs' in 0.22. Specify a solver to silence this warning.\n",
      "  FutureWarning)\n"
     ]
    },
    {
     "data": {
      "text/plain": [
       "GridSearchCV(cv=5, error_score='raise-deprecating',\n",
       "       estimator=LogisticRegression(C=1.0, class_weight=None, dual=False, fit_intercept=True,\n",
       "          intercept_scaling=1, max_iter=100, multi_class='warn',\n",
       "          n_jobs=None, penalty='l2', random_state=None, solver='warn',\n",
       "          tol=0.0001, verbose=0, warm_start=False),\n",
       "       fit_params=None, iid='warn', n_jobs=None,\n",
       "       param_grid={'C': [1, 10, 20, 50, 80, 100, 200, 500]},\n",
       "       pre_dispatch='2*n_jobs', refit=True, return_train_score='warn',\n",
       "       scoring='neg_log_loss', verbose=0)"
      ]
     },
     "execution_count": 57,
     "metadata": {},
     "output_type": "execute_result"
    }
   ],
   "source": [
    "params = {'C': [1, 10, 20, 50, 80, 100, 200, 500]}\n",
    "clf = GridSearchCV(LogisticRegression(), param_grid = params, cv = 5, scoring = 'neg_log_loss')\n",
    "clf.fit(X, Y)"
   ]
  },
  {
   "cell_type": "code",
   "execution_count": 58,
   "metadata": {},
   "outputs": [
    {
     "data": {
      "text/plain": [
       "{'C': 80}"
      ]
     },
     "execution_count": 58,
     "metadata": {},
     "output_type": "execute_result"
    }
   ],
   "source": [
    "clf.best_params_"
   ]
  },
  {
   "cell_type": "code",
   "execution_count": 59,
   "metadata": {},
   "outputs": [
    {
     "data": {
      "text/plain": [
       "-0.13432309474886434"
      ]
     },
     "execution_count": 59,
     "metadata": {},
     "output_type": "execute_result"
    }
   ],
   "source": [
    "clf.best_score_"
   ]
  },
  {
   "cell_type": "code",
   "execution_count": 60,
   "metadata": {},
   "outputs": [
    {
     "data": {
      "text/plain": [
       "-0.1342809992858557"
      ]
     },
     "execution_count": 60,
     "metadata": {},
     "output_type": "execute_result"
    }
   ],
   "source": [
    "clf.score(X, Y)"
   ]
  },
  {
   "cell_type": "code",
   "execution_count": 45,
   "metadata": {},
   "outputs": [
    {
     "name": "stderr",
     "output_type": "stream",
     "text": [
      "D:\\Code\\Anaconda3\\envs\\THANGHOANG\\lib\\site-packages\\numpy\\core\\_methods.py:36: RuntimeWarning: overflow encountered in reduce\n",
      "  return umr_sum(a, axis, dtype, out, keepdims, initial)\n"
     ]
    }
   ],
   "source": [
    "Y_test = clf.predict_proba(X_test)"
   ]
  },
  {
   "cell_type": "code",
   "execution_count": 46,
   "metadata": {},
   "outputs": [
    {
     "name": "stderr",
     "output_type": "stream",
     "text": [
      "D:\\Code\\Anaconda3\\envs\\THANGHOANG\\lib\\site-packages\\numpy\\core\\_methods.py:36: RuntimeWarning: overflow encountered in reduce\n",
      "  return umr_sum(a, axis, dtype, out, keepdims, initial)\n"
     ]
    }
   ],
   "source": [
    "Y_test = clf.predict_proba(X_test)\n",
    "submission = pd.DataFrame({'msno': test['msno'], 'is_churn': Y_test[:, 1].ravel()})\n",
    "submission.to_csv('logistic2.csv', index = False)"
   ]
  },
  {
   "cell_type": "markdown",
   "metadata": {},
   "source": [
    "### 2.2. Random Forest"
   ]
  },
  {
   "cell_type": "code",
   "execution_count": 85,
   "metadata": {},
   "outputs": [],
   "source": [
    "from sklearn.ensemble import RandomForestClassifier\n",
    "from sklearn.model_selection import RandomizedSearchCV"
   ]
  },
  {
   "cell_type": "code",
   "execution_count": 72,
   "metadata": {},
   "outputs": [],
   "source": [
    "# Create the random grid\n",
    "random_grid = {'n_estimators': [int(x) for x in np.linspace(start = 200, stop = 1200, num = 5)],\n",
    "               'max_features': ['auto', 'sqrt'],\n",
    "               'max_depth': [None, 5, 10],\n",
    "               'min_samples_leaf': [5, 10]}"
   ]
  },
  {
   "cell_type": "code",
   "execution_count": null,
   "metadata": {},
   "outputs": [
    {
     "name": "stderr",
     "output_type": "stream",
     "text": [
      "D:\\Code\\Anaconda3\\envs\\THANGHOANG\\lib\\site-packages\\sklearn\\model_selection\\_search.py:271: UserWarning: The total space of parameters 60 is smaller than n_iter=100. Running 60 iterations. For exhaustive searches, use GridSearchCV.\n",
      "  % (grid_size, self.n_iter, grid_size), UserWarning)\n"
     ]
    },
    {
     "name": "stdout",
     "output_type": "stream",
     "text": [
      "Fitting 5 folds for each of 60 candidates, totalling 300 fits\n"
     ]
    },
    {
     "name": "stderr",
     "output_type": "stream",
     "text": [
      "[Parallel(n_jobs=-1)]: Using backend LokyBackend with 8 concurrent workers.\n"
     ]
    }
   ],
   "source": [
    "clf = RandomForestClassifier()\n",
    "clf_random = RandomizedSearchCV(estimator = clf, param_distributions = random_grid, n_iter = 100, cv = 5, verbose=2, random_state=167, n_jobs = -1)\n",
    "\n",
    "# Fit the random search model\n",
    "clf_random.fit(X, Y)"
   ]
  },
  {
   "cell_type": "code",
   "execution_count": 56,
   "metadata": {},
   "outputs": [],
   "source": [
    "params_max_depth = [3, 6, 10, 20]"
   ]
  },
  {
   "cell_type": "code",
   "execution_count": null,
   "metadata": {},
   "outputs": [],
   "source": [
    "res = []\n",
    "for c in params_max_depth:\n",
    "    clf = RandomForestClassifier(n_estimators = 100, max_depth = c, min_samples_leaf = 10)\n",
    "    clf.fit(X_train, Y_train)\n",
    "    res.append(log_loss(Y_val, clf.predict_proba(X_val)))"
   ]
  },
  {
   "cell_type": "code",
   "execution_count": 151,
   "metadata": {},
   "outputs": [],
   "source": [
    "clf = RandomForestClassifier(n_estimators = 100, max_depth = 5, min_samples_leaf = 10)"
   ]
  },
  {
   "cell_type": "code",
   "execution_count": 152,
   "metadata": {},
   "outputs": [
    {
     "data": {
      "text/plain": [
       "RandomForestClassifier(bootstrap=True, class_weight=None, criterion='gini',\n",
       "            max_depth=5, max_features='auto', max_leaf_nodes=None,\n",
       "            min_impurity_decrease=0.0, min_impurity_split=None,\n",
       "            min_samples_leaf=10, min_samples_split=2,\n",
       "            min_weight_fraction_leaf=0.0, n_estimators=100, n_jobs=None,\n",
       "            oob_score=False, random_state=None, verbose=0,\n",
       "            warm_start=False)"
      ]
     },
     "execution_count": 152,
     "metadata": {},
     "output_type": "execute_result"
    }
   ],
   "source": [
    "clf.fit(X_train, Y_train)"
   ]
  },
  {
   "cell_type": "code",
   "execution_count": 153,
   "metadata": {},
   "outputs": [],
   "source": [
    "Y_train_pred = clf.predict_proba(X_train)\n",
    "Y_val_pred = clf.predict_proba(X_val)"
   ]
  },
  {
   "cell_type": "code",
   "execution_count": 154,
   "metadata": {},
   "outputs": [
    {
     "data": {
      "text/plain": [
       "0.13043583228816008"
      ]
     },
     "execution_count": 154,
     "metadata": {},
     "output_type": "execute_result"
    }
   ],
   "source": [
    "log_loss(Y_train, Y_train_pred)"
   ]
  },
  {
   "cell_type": "code",
   "execution_count": 155,
   "metadata": {},
   "outputs": [
    {
     "data": {
      "text/plain": [
       "0.12801750398547512"
      ]
     },
     "execution_count": 155,
     "metadata": {},
     "output_type": "execute_result"
    }
   ],
   "source": [
    "log_loss(Y_val, Y_val_pred)"
   ]
  },
  {
   "cell_type": "code",
   "execution_count": 156,
   "metadata": {},
   "outputs": [],
   "source": [
    "Y_test = clf.predict_proba(X_test)\n",
    "submission = pd.DataFrame({'msno': test['msno'], 'is_churn': Y_test[:, 1].ravel()})\n",
    "submission.to_csv('randomforest5.csv', index = False)"
   ]
  },
  {
   "cell_type": "code",
   "execution_count": 112,
   "metadata": {},
   "outputs": [],
   "source": [
    "Y_dev_rf = clf.predict_proba(X_dev)"
   ]
  },
  {
   "cell_type": "markdown",
   "metadata": {},
   "source": [
    "### 2.3. KNN"
   ]
  },
  {
   "cell_type": "code",
   "execution_count": 48,
   "metadata": {},
   "outputs": [],
   "source": [
    "from sklearn.neighbors import KNeighborsClassifier"
   ]
  },
  {
   "cell_type": "code",
   "execution_count": 49,
   "metadata": {},
   "outputs": [],
   "source": [
    "clf = KNeighborsClassifier(n_neighbors = 10, weights = 'distance')"
   ]
  },
  {
   "cell_type": "code",
   "execution_count": 50,
   "metadata": {},
   "outputs": [
    {
     "data": {
      "text/plain": [
       "KNeighborsClassifier(algorithm='auto', leaf_size=30, metric='minkowski',\n",
       "           metric_params=None, n_jobs=None, n_neighbors=10, p=2,\n",
       "           weights='distance')"
      ]
     },
     "execution_count": 50,
     "metadata": {},
     "output_type": "execute_result"
    }
   ],
   "source": [
    "clf.fit(X_train, Y_train)"
   ]
  },
  {
   "cell_type": "code",
   "execution_count": 52,
   "metadata": {},
   "outputs": [],
   "source": [
    "Y_train_pred = clf.predict_proba(X_train)\n",
    "Y_val_pred = clf.predict_proba(X_val)"
   ]
  },
  {
   "cell_type": "code",
   "execution_count": 53,
   "metadata": {},
   "outputs": [
    {
     "data": {
      "text/plain": [
       "9.99200722162641e-16"
      ]
     },
     "execution_count": 53,
     "metadata": {},
     "output_type": "execute_result"
    }
   ],
   "source": [
    "log_loss(Y_train, Y_train_pred)"
   ]
  },
  {
   "cell_type": "code",
   "execution_count": 54,
   "metadata": {},
   "outputs": [
    {
     "data": {
      "text/plain": [
       "0.3804673961467252"
      ]
     },
     "execution_count": 54,
     "metadata": {},
     "output_type": "execute_result"
    }
   ],
   "source": [
    "log_loss(Y_val, Y_val_pred)"
   ]
  },
  {
   "cell_type": "code",
   "execution_count": 55,
   "metadata": {},
   "outputs": [],
   "source": [
    "Y_test = clf.predict_proba(X_test)\n",
    "submission = pd.DataFrame({'msno': test['msno'], 'is_churn': Y_test[:, 1].ravel()})\n",
    "submission.to_csv('knn1.csv', index = False)"
   ]
  },
  {
   "cell_type": "code",
   "execution_count": 58,
   "metadata": {},
   "outputs": [],
   "source": [
    "train.to_csv('train_processed.csv', index = False)\n",
    "test.to_csv('test_processed.csv', index = False)"
   ]
  },
  {
   "cell_type": "markdown",
   "metadata": {},
   "source": [
    "### 2.4. SVM"
   ]
  },
  {
   "cell_type": "code",
   "execution_count": 51,
   "metadata": {},
   "outputs": [],
   "source": [
    "from sklearn.svm import SVC"
   ]
  },
  {
   "cell_type": "code",
   "execution_count": null,
   "metadata": {},
   "outputs": [
    {
     "name": "stderr",
     "output_type": "stream",
     "text": [
      "D:\\Code\\Anaconda3\\envs\\THANGHOANG\\lib\\site-packages\\sklearn\\svm\\base.py:196: FutureWarning: The default value of gamma will change from 'auto' to 'scale' in version 0.22 to account better for unscaled features. Set gamma explicitly to 'auto' or 'scale' to avoid this warning.\n",
      "  \"avoid this warning.\", FutureWarning)\n"
     ]
    }
   ],
   "source": [
    "clf = SVC(C = 20, kernel = 'rbf', probability = True)\n",
    "clf.fit(X_train, Y_train)"
   ]
  },
  {
   "cell_type": "code",
   "execution_count": null,
   "metadata": {},
   "outputs": [],
   "source": []
  },
  {
   "cell_type": "code",
   "execution_count": null,
   "metadata": {},
   "outputs": [],
   "source": []
  },
  {
   "cell_type": "markdown",
   "metadata": {},
   "source": [
    "### 2.5. Catboost"
   ]
  },
  {
   "cell_type": "code",
   "execution_count": 92,
   "metadata": {},
   "outputs": [],
   "source": [
    "from catboost import CatBoostClassifier\n",
    "from catboost import cv\n",
    "from catboost import Pool"
   ]
  },
  {
   "cell_type": "code",
   "execution_count": 19,
   "metadata": {},
   "outputs": [],
   "source": [
    "scores = []\n",
    "for i in range(10):\n",
    "    my_random_seed = i*42 + 2013\n",
    "    model = CatBoostClassifier(iterations=300, learning_rate=0.1, random_seed=my_random_seed, loss_function='CrossEntropy', custom_loss = 'Logloss')\n",
    "    model.fit(X_train, Y_train, eval_set=(X_val, Y_val), verbose=False)\n",
    "    yhat_validation = model.predict_proba(X_val)\n",
    "    scores.append(log_loss(Y_val, yhat_validation))"
   ]
  },
  {
   "cell_type": "code",
   "execution_count": 113,
   "metadata": {},
   "outputs": [
    {
     "name": "stdout",
     "output_type": "stream",
     "text": [
      "0:\tlearn: 0.4653355\ttest: 0.4658335\tbest: 0.4658335 (0)\ttotal: 401ms\tremaining: 59.8s\n"
     ]
    },
    {
     "name": "stderr",
     "output_type": "stream",
     "text": [
      "Training has stopped (degenerate solution on iteration 11, probably too small l2-regularization, try to increase it)\n"
     ]
    },
    {
     "name": "stdout",
     "output_type": "stream",
     "text": [
      "\n",
      "bestTest = 0.08504825676\n",
      "bestIteration = 10\n",
      "\n",
      "Shrink model to first 11 iterations.\n"
     ]
    },
    {
     "data": {
      "text/plain": [
       "<catboost.core.CatBoostClassifier at 0x1d09379f5c0>"
      ]
     },
     "execution_count": 113,
     "metadata": {},
     "output_type": "execute_result"
    }
   ],
   "source": [
    "cb = CatBoostClassifier(iterations=150, learning_rate=0.1, od_type='Iter', od_wait=50, loss_function='CrossEntropy', custom_loss = 'Logloss', random_seed = 167)\n",
    "cb.fit(X_train, Y_train, eval_set=(X_val, Y_val), verbose=50)"
   ]
  },
  {
   "cell_type": "code",
   "execution_count": 94,
   "metadata": {},
   "outputs": [],
   "source": [
    "Y_train_pred = cb.predict_proba(X_train)\n",
    "Y_val_pred = cb.predict_proba(X_val)"
   ]
  },
  {
   "cell_type": "code",
   "execution_count": 95,
   "metadata": {},
   "outputs": [
    {
     "data": {
      "text/plain": [
       "0.08523476631178266"
      ]
     },
     "execution_count": 95,
     "metadata": {},
     "output_type": "execute_result"
    }
   ],
   "source": [
    "log_loss(Y_train, Y_train_pred)"
   ]
  },
  {
   "cell_type": "code",
   "execution_count": 96,
   "metadata": {},
   "outputs": [
    {
     "data": {
      "text/plain": [
       "0.0850482567621041"
      ]
     },
     "execution_count": 96,
     "metadata": {},
     "output_type": "execute_result"
    }
   ],
   "source": [
    "log_loss(Y_val, Y_val_pred)"
   ]
  },
  {
   "cell_type": "code",
   "execution_count": 53,
   "metadata": {
    "collapsed": true
   },
   "outputs": [
    {
     "data": {
      "text/plain": [
       "[0.0,\n",
       " 0.0,\n",
       " 0.0,\n",
       " 0.0,\n",
       " 0.0,\n",
       " 0.0,\n",
       " 0.0,\n",
       " 0.0,\n",
       " 0.0,\n",
       " 0.0,\n",
       " 48.26674261652575,\n",
       " 2.8797069280101284,\n",
       " 0.0,\n",
       " 45.04158502190335,\n",
       " 0.0,\n",
       " 0.0,\n",
       " 0.0,\n",
       " 0.0,\n",
       " 0.0,\n",
       " 3.811965433560769,\n",
       " 0.0,\n",
       " 0.0,\n",
       " 0.0,\n",
       " 0.0,\n",
       " 0.0,\n",
       " 0.0,\n",
       " 0.0,\n",
       " 0.0,\n",
       " 0.0,\n",
       " 0.0]"
      ]
     },
     "execution_count": 53,
     "metadata": {},
     "output_type": "execute_result"
    }
   ],
   "source": [
    "cb.get_feature_importance(Pool(X_train, Y_train))"
   ]
  },
  {
   "cell_type": "code",
   "execution_count": 97,
   "metadata": {},
   "outputs": [],
   "source": [
    "Y_test = model.predict_proba(X_test)\n",
    "submission = pd.DataFrame({'msno': test['msno'], 'is_churn': Y_test[:, 1].ravel()})\n",
    "submission.to_csv('cb3.csv', index = False)"
   ]
  },
  {
   "cell_type": "code",
   "execution_count": 114,
   "metadata": {},
   "outputs": [],
   "source": [
    "Y_dev_cb = cb.predict_proba(X_dev)"
   ]
  },
  {
   "cell_type": "markdown",
   "metadata": {},
   "source": [
    "### 2.6. XGBoost"
   ]
  },
  {
   "cell_type": "code",
   "execution_count": 98,
   "metadata": {},
   "outputs": [],
   "source": [
    "import xgboost as xgb\n",
    "from xgboost.sklearn import XGBClassifier\n",
    "from xgboost import plot_importance"
   ]
  },
  {
   "cell_type": "code",
   "execution_count": 99,
   "metadata": {},
   "outputs": [],
   "source": [
    "xgb1 = XGBClassifier(\n",
    " learning_rate = 0.1,\n",
    " n_estimators = 150,\n",
    " max_depth=5,\n",
    " min_child_weight=5,\n",
    " gamma=0,\n",
    " subsample=0.8,\n",
    " colsample_bytree=0.8,\n",
    " objective= 'binary:logistic',\n",
    " nthread=4,\n",
    " scale_pos_weight=1,\n",
    " seed=27)"
   ]
  },
  {
   "cell_type": "code",
   "execution_count": 100,
   "metadata": {},
   "outputs": [
    {
     "data": {
      "text/plain": [
       "XGBClassifier(base_score=0.5, booster='gbtree', colsample_bylevel=1,\n",
       "       colsample_bytree=0.8, gamma=0, learning_rate=0.1, max_delta_step=0,\n",
       "       max_depth=5, min_child_weight=5, missing=None, n_estimators=150,\n",
       "       n_jobs=1, nthread=4, objective='binary:logistic', random_state=0,\n",
       "       reg_alpha=0, reg_lambda=1, scale_pos_weight=1, seed=27, silent=True,\n",
       "       subsample=0.8)"
      ]
     },
     "execution_count": 100,
     "metadata": {},
     "output_type": "execute_result"
    }
   ],
   "source": [
    "xgb1.fit(X_train, Y_train, eval_metric = 'logloss', eval_set = [(X_val, Y_val)], early_stopping_rounds = 50, verbose = 50)"
   ]
  },
  {
   "cell_type": "code",
   "execution_count": null,
   "metadata": {},
   "outputs": [],
   "source": [
    "xgb1.evals_result()"
   ]
  },
  {
   "cell_type": "code",
   "execution_count": 101,
   "metadata": {},
   "outputs": [],
   "source": [
    "Y_train_pred = xgb1.predict_proba(X_train)\n",
    "Y_val_pred = xgb1.predict_proba(X_val)"
   ]
  },
  {
   "cell_type": "code",
   "execution_count": 102,
   "metadata": {},
   "outputs": [
    {
     "data": {
      "text/plain": [
       "0.06598820278000116"
      ]
     },
     "execution_count": 102,
     "metadata": {},
     "output_type": "execute_result"
    }
   ],
   "source": [
    "log_loss(Y_train, Y_train_pred)"
   ]
  },
  {
   "cell_type": "code",
   "execution_count": 103,
   "metadata": {},
   "outputs": [
    {
     "data": {
      "text/plain": [
       "0.06582322741244472"
      ]
     },
     "execution_count": 103,
     "metadata": {},
     "output_type": "execute_result"
    }
   ],
   "source": [
    "log_loss(Y_val, Y_val_pred)"
   ]
  },
  {
   "cell_type": "code",
   "execution_count": 104,
   "metadata": {},
   "outputs": [],
   "source": [
    "Y_test = xgb1.predict_proba(X_test)\n",
    "submission = pd.DataFrame({'msno': test['msno'], 'is_churn': Y_test[:, 1].ravel()})\n",
    "submission.to_csv('xgb2.csv', index = False)"
   ]
  },
  {
   "cell_type": "code",
   "execution_count": 115,
   "metadata": {},
   "outputs": [],
   "source": [
    "Y_dev_xgb = xgb1.predict_proba(X_dev)"
   ]
  },
  {
   "cell_type": "code",
   "execution_count": 58,
   "metadata": {},
   "outputs": [
    {
     "data": {
      "text/plain": [
       "array([0.05197452, 0.03541401, 0.03210191, 0.02980892, 0.02598726,\n",
       "       0.03617834, 0.03490446, 0.00178344, 0.00738853, 0.02980892,\n",
       "       0.03847134, 0.04484076, 0.21426752, 0.14343949, 0.12050956,\n",
       "       0.02242038, 0.02012739, 0.00152866, 0.00229299, 0.00152866,\n",
       "       0.00509554, 0.00917197, 0.00203822, 0.00254777, 0.0155414 ,\n",
       "       0.00407643, 0.03796178, 0.00611465, 0.01936306, 0.0033121 ],\n",
       "      dtype=float32)"
      ]
     },
     "execution_count": 58,
     "metadata": {},
     "output_type": "execute_result"
    }
   ],
   "source": [
    "xgb1.feature_importances_"
   ]
  },
  {
   "cell_type": "code",
   "execution_count": 64,
   "metadata": {},
   "outputs": [
    {
     "data": {
      "text/plain": [
       "<matplotlib.axes._subplots.AxesSubplot at 0x1d08aac17f0>"
      ]
     },
     "execution_count": 64,
     "metadata": {},
     "output_type": "execute_result"
    },
    {
     "data": {
      "image/png": "[encoded data removed]",
      "text/plain": [
       "<Figure size 864x432 with 1 Axes>"
      ]
     },
     "metadata": {
      "needs_background": "light"
     },
     "output_type": "display_data"
    }
   ],
   "source": [
    "fig, ax = plt.subplots(figsize=(12,6))\n",
    "plot_importance(xgb1, max_num_features=10, ax = ax)"
   ]
  },
  {
   "cell_type": "markdown",
   "metadata": {},
   "source": [
    "### 2.7. Neural Network"
   ]
  },
  {
   "cell_type": "code",
   "execution_count": 105,
   "metadata": {},
   "outputs": [],
   "source": [
    "from keras.models import Sequential\n",
    "from keras.layers import Dense, Dropout\n",
    "from keras.optimizers import Adam"
   ]
  },
  {
   "cell_type": "code",
   "execution_count": 106,
   "metadata": {},
   "outputs": [],
   "source": [
    "model = Sequential()\n",
    "model.add(Dense(50, activation = 'relu', input_shape = (30, )))\n",
    "model.add(Dropout(0.3))\n",
    "model.add(Dense(100, activation = 'relu'))\n",
    "model.add(Dropout(0.3))\n",
    "model.add(Dense(80, activation = 'relu'))\n",
    "model.add(Dropout(0.5))\n",
    "model.add(Dense(1, activation = 'sigmoid'))"
   ]
  },
  {
   "cell_type": "code",
   "execution_count": 107,
   "metadata": {},
   "outputs": [],
   "source": [
    "model.compile(loss = 'binary_crossentropy', optimizer = Adam(), metrics = ['accuracy'])"
   ]
  },
  {
   "cell_type": "code",
   "execution_count": 108,
   "metadata": {},
   "outputs": [
    {
     "name": "stdout",
     "output_type": "stream",
     "text": [
      "Train on 1808431 samples, validate on 70000 samples\n",
      "Epoch 1/10\n",
      " - 34s - loss: 0.0899 - acc: 0.9711 - val_loss: 0.0776 - val_acc: 0.9749\n",
      "Epoch 2/10\n",
      " - 36s - loss: 0.0817 - acc: 0.9743 - val_loss: 0.0778 - val_acc: 0.9749\n",
      "Epoch 3/10\n",
      " - 34s - loss: 0.0807 - acc: 0.9743 - val_loss: 0.0766 - val_acc: 0.9749\n",
      "Epoch 4/10\n",
      " - 34s - loss: 0.0799 - acc: 0.9743 - val_loss: 0.0764 - val_acc: 0.9749\n",
      "Epoch 5/10\n",
      " - 33s - loss: 0.0795 - acc: 0.9743 - val_loss: 0.0768 - val_acc: 0.9749\n",
      "Epoch 6/10\n",
      " - 36s - loss: 0.0791 - acc: 0.9744 - val_loss: 0.0768 - val_acc: 0.9749\n",
      "Epoch 7/10\n",
      " - 33s - loss: 0.0790 - acc: 0.9743 - val_loss: 0.0760 - val_acc: 0.9749\n",
      "Epoch 8/10\n",
      " - 34s - loss: 0.0787 - acc: 0.9743 - val_loss: 0.0747 - val_acc: 0.9749\n",
      "Epoch 9/10\n",
      " - 35s - loss: 0.0785 - acc: 0.9743 - val_loss: 0.0753 - val_acc: 0.9749\n",
      "Epoch 10/10\n",
      " - 34s - loss: 0.0785 - acc: 0.9744 - val_loss: 0.0748 - val_acc: 0.9749\n"
     ]
    },
    {
     "data": {
      "text/plain": [
       "<keras.callbacks.History at 0x1d08a995208>"
      ]
     },
     "execution_count": 108,
     "metadata": {},
     "output_type": "execute_result"
    }
   ],
   "source": [
    "model.fit(X_train, Y_train, batch_size = 128, epochs = 10, validation_data = (X_val, Y_val), verbose = 2)"
   ]
  },
  {
   "cell_type": "code",
   "execution_count": 109,
   "metadata": {},
   "outputs": [],
   "source": [
    "Y_test = model.predict(X_test)\n",
    "submission = pd.DataFrame({'msno': test['msno'], 'is_churn': Y_test.ravel()})\n",
    "submission.to_csv('nn3.csv', index = False)"
   ]
  },
  {
   "cell_type": "code",
   "execution_count": 116,
   "metadata": {},
   "outputs": [],
   "source": [
    "Y_dev_nn = model.predict(X_dev)"
   ]
  },
  {
   "cell_type": "code",
   "execution_count": 128,
   "metadata": {},
   "outputs": [],
   "source": [
    "X_train_stack = np.c_[Y_dev_rf[:, 1], Y_dev_cb[:, 1], Y_dev_xgb[:, 1], Y_dev_nn[:, 0]]"
   ]
  },
  {
   "cell_type": "code",
   "execution_count": 130,
   "metadata": {},
   "outputs": [],
   "source": [
    "rf = pd.read_csv('randomforest4.csv')\n",
    "cb = pd.read_csv('cb3.csv')\n",
    "xgb = pd.read_csv('xgb2.csv')\n",
    "nn = pd.read_csv('nn3.csv')"
   ]
  },
  {
   "cell_type": "code",
   "execution_count": 135,
   "metadata": {},
   "outputs": [],
   "source": [
    "X_test_stack = pd.concat([rf['is_churn'], cb['is_churn'], xgb['is_churn'], nn['is_churn']], axis = 1).values"
   ]
  },
  {
   "cell_type": "code",
   "execution_count": 139,
   "metadata": {},
   "outputs": [],
   "source": [
    "xgb_stack = XGBClassifier(\n",
    " learning_rate = 0.1,\n",
    " n_estimators = 150,\n",
    " max_depth=5,\n",
    " min_child_weight=5,\n",
    " gamma=0,\n",
    " subsample=0.8,\n",
    " colsample_bytree=0.8,\n",
    " objective= 'binary:logistic',\n",
    " nthread=4,\n",
    " scale_pos_weight=1,\n",
    " seed=27)"
   ]
  },
  {
   "cell_type": "code",
   "execution_count": 143,
   "metadata": {},
   "outputs": [
    {
     "data": {
      "text/plain": [
       "XGBClassifier(base_score=0.5, booster='gbtree', colsample_bylevel=1,\n",
       "       colsample_bytree=0.8, gamma=0, learning_rate=0.1, max_delta_step=0,\n",
       "       max_depth=5, min_child_weight=5, missing=None, n_estimators=150,\n",
       "       n_jobs=1, nthread=4, objective='binary:logistic', random_state=0,\n",
       "       reg_alpha=0, reg_lambda=1, scale_pos_weight=1, seed=27, silent=True,\n",
       "       subsample=0.8)"
      ]
     },
     "execution_count": 143,
     "metadata": {},
     "output_type": "execute_result"
    }
   ],
   "source": [
    "xgb_stack.fit(X_train_stack, train['is_churn'].values, eval_metric = 'logloss')"
   ]
  },
  {
   "cell_type": "code",
   "execution_count": 144,
   "metadata": {},
   "outputs": [
    {
     "data": {
      "text/plain": [
       "0.09904359886565087"
      ]
     },
     "execution_count": 144,
     "metadata": {},
     "output_type": "execute_result"
    }
   ],
   "source": [
    "log_loss(train['is_churn'].values, xgb_stack.predict_proba(X_train_stack))"
   ]
  },
  {
   "cell_type": "code",
   "execution_count": 145,
   "metadata": {},
   "outputs": [],
   "source": [
    "Y_test = xgb_stack.predict_proba(X_test_stack)\n",
    "submission = pd.DataFrame({'msno': test['msno'], 'is_churn': Y_test[:, 1].ravel()})\n",
    "submission.to_csv('xgb3.csv', index = False)"
   ]
  },
  {
   "cell_type": "code",
   "execution_count": null,
   "metadata": {},
   "outputs": [],
   "source": []
  }
 ],
 "metadata": {
  "kernelspec": {
   "display_name": "THANGHOANG",
   "language": "python",
   "name": "thanghoang"
  },
  "language_info": {
   "codemirror_mode": {
    "name": "ipython",
    "version": 3
   },
   "file_extension": ".py",
   "mimetype": "text/x-python",
   "name": "python",
   "nbconvert_exporter": "python",
   "pygments_lexer": "ipython3",
   "version": "3.6.7"
  }
 },
 "nbformat": 4,
 "nbformat_minor": 2
}
